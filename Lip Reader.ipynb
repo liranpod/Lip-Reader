{
 "cells": [
  {
   "cell_type": "code",
   "execution_count": 36,
   "id": "f82e5fde-3f98-44f0-855d-a254fe2590a4",
   "metadata": {},
   "outputs": [],
   "source": [
    "import os\n",
    "import cv2\n",
    "import tensorflow as tf\n",
    "import numpy as np\n",
    "from typing import List\n",
    "from matplotlib import pyplot as plt\n",
    "import imageio"
   ]
  },
  {
   "cell_type": "code",
   "execution_count": 37,
   "id": "bebb67aa-fbbb-43cf-bb14-3334da9d3d3c",
   "metadata": {},
   "outputs": [],
   "source": [
    "import gdown"
   ]
  },
  {
   "cell_type": "code",
   "execution_count": 35,
   "id": "312616db-7d17-4b18-8b8b-b7fec99f4f02",
   "metadata": {
    "collapsed": true,
    "jupyter": {
     "outputs_hidden": true
    },
    "tags": []
   },
   "outputs": [
    {
     "name": "stderr",
     "output_type": "stream",
     "text": [
      "Downloading...\n",
      "From: https://drive.google.com/uc?id=1YlvpDLix3S-U8fd-gqRwPcWXAXm8JwjL\n",
      "To: /Users/liranpod/Desktop/Tensorflow/Computer Vision/Lip Reader/data.zip\n",
      " 17%|██████▊                                | 73.9M/423M [00:11<00:54, 6.46MB/s]"
     ]
    },
    {
     "ename": "KeyboardInterrupt",
     "evalue": "",
     "output_type": "error",
     "traceback": [
      "\u001b[0;31m---------------------------------------------------------------------------\u001b[0m",
      "\u001b[0;31mKeyboardInterrupt\u001b[0m                         Traceback (most recent call last)",
      "Input \u001b[0;32mIn [35]\u001b[0m, in \u001b[0;36m<cell line: 3>\u001b[0;34m()\u001b[0m\n\u001b[1;32m      1\u001b[0m url \u001b[38;5;241m=\u001b[39m \u001b[38;5;124m'\u001b[39m\u001b[38;5;124mhttps://drive.google.com/uc?id=1YlvpDLix3S-U8fd-gqRwPcWXAXm8JwjL\u001b[39m\u001b[38;5;124m'\u001b[39m\n\u001b[1;32m      2\u001b[0m output \u001b[38;5;241m=\u001b[39m \u001b[38;5;124m'\u001b[39m\u001b[38;5;124mdata.zip\u001b[39m\u001b[38;5;124m'\u001b[39m\n\u001b[0;32m----> 3\u001b[0m \u001b[43mgdown\u001b[49m\u001b[38;5;241;43m.\u001b[39;49m\u001b[43mdownload\u001b[49m\u001b[43m(\u001b[49m\u001b[43murl\u001b[49m\u001b[43m,\u001b[49m\u001b[43m \u001b[49m\u001b[43moutput\u001b[49m\u001b[43m,\u001b[49m\u001b[43m \u001b[49m\u001b[43mquiet\u001b[49m\u001b[38;5;241;43m=\u001b[39;49m\u001b[38;5;28;43;01mFalse\u001b[39;49;00m\u001b[43m)\u001b[49m\n\u001b[1;32m      4\u001b[0m gdown\u001b[38;5;241m.\u001b[39mextractall(\u001b[38;5;124m'\u001b[39m\u001b[38;5;124mdata.zip\u001b[39m\u001b[38;5;124m'\u001b[39m)\n",
      "File \u001b[0;32m~/miniconda3/envs/experimental/lib/python3.10/site-packages/gdown/download.py:270\u001b[0m, in \u001b[0;36mdownload\u001b[0;34m(url, output, quiet, proxy, speed, use_cookies, verify, id, fuzzy, resume)\u001b[0m\n\u001b[1;32m    268\u001b[0m     pbar \u001b[38;5;241m=\u001b[39m tqdm\u001b[38;5;241m.\u001b[39mtqdm(total\u001b[38;5;241m=\u001b[39mtotal, unit\u001b[38;5;241m=\u001b[39m\u001b[38;5;124m\"\u001b[39m\u001b[38;5;124mB\u001b[39m\u001b[38;5;124m\"\u001b[39m, unit_scale\u001b[38;5;241m=\u001b[39m\u001b[38;5;28;01mTrue\u001b[39;00m)\n\u001b[1;32m    269\u001b[0m t_start \u001b[38;5;241m=\u001b[39m time\u001b[38;5;241m.\u001b[39mtime()\n\u001b[0;32m--> 270\u001b[0m \u001b[38;5;28;01mfor\u001b[39;00m chunk \u001b[38;5;129;01min\u001b[39;00m res\u001b[38;5;241m.\u001b[39miter_content(chunk_size\u001b[38;5;241m=\u001b[39mCHUNK_SIZE):\n\u001b[1;32m    271\u001b[0m     f\u001b[38;5;241m.\u001b[39mwrite(chunk)\n\u001b[1;32m    272\u001b[0m     \u001b[38;5;28;01mif\u001b[39;00m \u001b[38;5;129;01mnot\u001b[39;00m quiet:\n",
      "File \u001b[0;32m~/miniconda3/envs/experimental/lib/python3.10/site-packages/requests/models.py:816\u001b[0m, in \u001b[0;36mResponse.iter_content.<locals>.generate\u001b[0;34m()\u001b[0m\n\u001b[1;32m    814\u001b[0m \u001b[38;5;28;01mif\u001b[39;00m \u001b[38;5;28mhasattr\u001b[39m(\u001b[38;5;28mself\u001b[39m\u001b[38;5;241m.\u001b[39mraw, \u001b[38;5;124m\"\u001b[39m\u001b[38;5;124mstream\u001b[39m\u001b[38;5;124m\"\u001b[39m):\n\u001b[1;32m    815\u001b[0m     \u001b[38;5;28;01mtry\u001b[39;00m:\n\u001b[0;32m--> 816\u001b[0m         \u001b[38;5;28;01myield from\u001b[39;00m \u001b[38;5;28mself\u001b[39m\u001b[38;5;241m.\u001b[39mraw\u001b[38;5;241m.\u001b[39mstream(chunk_size, decode_content\u001b[38;5;241m=\u001b[39m\u001b[38;5;28;01mTrue\u001b[39;00m)\n\u001b[1;32m    817\u001b[0m     \u001b[38;5;28;01mexcept\u001b[39;00m ProtocolError \u001b[38;5;28;01mas\u001b[39;00m e:\n\u001b[1;32m    818\u001b[0m         \u001b[38;5;28;01mraise\u001b[39;00m ChunkedEncodingError(e)\n",
      "File \u001b[0;32m~/miniconda3/envs/experimental/lib/python3.10/site-packages/urllib3/response.py:628\u001b[0m, in \u001b[0;36mHTTPResponse.stream\u001b[0;34m(self, amt, decode_content)\u001b[0m\n\u001b[1;32m    626\u001b[0m \u001b[38;5;28;01melse\u001b[39;00m:\n\u001b[1;32m    627\u001b[0m     \u001b[38;5;28;01mwhile\u001b[39;00m \u001b[38;5;129;01mnot\u001b[39;00m is_fp_closed(\u001b[38;5;28mself\u001b[39m\u001b[38;5;241m.\u001b[39m_fp):\n\u001b[0;32m--> 628\u001b[0m         data \u001b[38;5;241m=\u001b[39m \u001b[38;5;28;43mself\u001b[39;49m\u001b[38;5;241;43m.\u001b[39;49m\u001b[43mread\u001b[49m\u001b[43m(\u001b[49m\u001b[43mamt\u001b[49m\u001b[38;5;241;43m=\u001b[39;49m\u001b[43mamt\u001b[49m\u001b[43m,\u001b[49m\u001b[43m \u001b[49m\u001b[43mdecode_content\u001b[49m\u001b[38;5;241;43m=\u001b[39;49m\u001b[43mdecode_content\u001b[49m\u001b[43m)\u001b[49m\n\u001b[1;32m    630\u001b[0m         \u001b[38;5;28;01mif\u001b[39;00m data:\n\u001b[1;32m    631\u001b[0m             \u001b[38;5;28;01myield\u001b[39;00m data\n",
      "File \u001b[0;32m~/miniconda3/envs/experimental/lib/python3.10/site-packages/urllib3/response.py:567\u001b[0m, in \u001b[0;36mHTTPResponse.read\u001b[0;34m(self, amt, decode_content, cache_content)\u001b[0m\n\u001b[1;32m    564\u001b[0m fp_closed \u001b[38;5;241m=\u001b[39m \u001b[38;5;28mgetattr\u001b[39m(\u001b[38;5;28mself\u001b[39m\u001b[38;5;241m.\u001b[39m_fp, \u001b[38;5;124m\"\u001b[39m\u001b[38;5;124mclosed\u001b[39m\u001b[38;5;124m\"\u001b[39m, \u001b[38;5;28;01mFalse\u001b[39;00m)\n\u001b[1;32m    566\u001b[0m \u001b[38;5;28;01mwith\u001b[39;00m \u001b[38;5;28mself\u001b[39m\u001b[38;5;241m.\u001b[39m_error_catcher():\n\u001b[0;32m--> 567\u001b[0m     data \u001b[38;5;241m=\u001b[39m \u001b[38;5;28;43mself\u001b[39;49m\u001b[38;5;241;43m.\u001b[39;49m\u001b[43m_fp_read\u001b[49m\u001b[43m(\u001b[49m\u001b[43mamt\u001b[49m\u001b[43m)\u001b[49m \u001b[38;5;28;01mif\u001b[39;00m \u001b[38;5;129;01mnot\u001b[39;00m fp_closed \u001b[38;5;28;01melse\u001b[39;00m \u001b[38;5;124mb\u001b[39m\u001b[38;5;124m\"\u001b[39m\u001b[38;5;124m\"\u001b[39m\n\u001b[1;32m    568\u001b[0m     \u001b[38;5;28;01mif\u001b[39;00m amt \u001b[38;5;129;01mis\u001b[39;00m \u001b[38;5;28;01mNone\u001b[39;00m:\n\u001b[1;32m    569\u001b[0m         flush_decoder \u001b[38;5;241m=\u001b[39m \u001b[38;5;28;01mTrue\u001b[39;00m\n",
      "File \u001b[0;32m~/miniconda3/envs/experimental/lib/python3.10/site-packages/urllib3/response.py:533\u001b[0m, in \u001b[0;36mHTTPResponse._fp_read\u001b[0;34m(self, amt)\u001b[0m\n\u001b[1;32m    530\u001b[0m     \u001b[38;5;28;01mreturn\u001b[39;00m buffer\u001b[38;5;241m.\u001b[39mgetvalue()\n\u001b[1;32m    531\u001b[0m \u001b[38;5;28;01melse\u001b[39;00m:\n\u001b[1;32m    532\u001b[0m     \u001b[38;5;66;03m# StringIO doesn't like amt=None\u001b[39;00m\n\u001b[0;32m--> 533\u001b[0m     \u001b[38;5;28;01mreturn\u001b[39;00m \u001b[38;5;28;43mself\u001b[39;49m\u001b[38;5;241;43m.\u001b[39;49m\u001b[43m_fp\u001b[49m\u001b[38;5;241;43m.\u001b[39;49m\u001b[43mread\u001b[49m\u001b[43m(\u001b[49m\u001b[43mamt\u001b[49m\u001b[43m)\u001b[49m \u001b[38;5;28;01mif\u001b[39;00m amt \u001b[38;5;129;01mis\u001b[39;00m \u001b[38;5;129;01mnot\u001b[39;00m \u001b[38;5;28;01mNone\u001b[39;00m \u001b[38;5;28;01melse\u001b[39;00m \u001b[38;5;28mself\u001b[39m\u001b[38;5;241m.\u001b[39m_fp\u001b[38;5;241m.\u001b[39mread()\n",
      "File \u001b[0;32m~/miniconda3/envs/experimental/lib/python3.10/http/client.py:465\u001b[0m, in \u001b[0;36mHTTPResponse.read\u001b[0;34m(self, amt)\u001b[0m\n\u001b[1;32m    462\u001b[0m \u001b[38;5;28;01mif\u001b[39;00m \u001b[38;5;28mself\u001b[39m\u001b[38;5;241m.\u001b[39mlength \u001b[38;5;129;01mis\u001b[39;00m \u001b[38;5;129;01mnot\u001b[39;00m \u001b[38;5;28;01mNone\u001b[39;00m \u001b[38;5;129;01mand\u001b[39;00m amt \u001b[38;5;241m>\u001b[39m \u001b[38;5;28mself\u001b[39m\u001b[38;5;241m.\u001b[39mlength:\n\u001b[1;32m    463\u001b[0m     \u001b[38;5;66;03m# clip the read to the \"end of response\"\u001b[39;00m\n\u001b[1;32m    464\u001b[0m     amt \u001b[38;5;241m=\u001b[39m \u001b[38;5;28mself\u001b[39m\u001b[38;5;241m.\u001b[39mlength\n\u001b[0;32m--> 465\u001b[0m s \u001b[38;5;241m=\u001b[39m \u001b[38;5;28;43mself\u001b[39;49m\u001b[38;5;241;43m.\u001b[39;49m\u001b[43mfp\u001b[49m\u001b[38;5;241;43m.\u001b[39;49m\u001b[43mread\u001b[49m\u001b[43m(\u001b[49m\u001b[43mamt\u001b[49m\u001b[43m)\u001b[49m\n\u001b[1;32m    466\u001b[0m \u001b[38;5;28;01mif\u001b[39;00m \u001b[38;5;129;01mnot\u001b[39;00m s \u001b[38;5;129;01mand\u001b[39;00m amt:\n\u001b[1;32m    467\u001b[0m     \u001b[38;5;66;03m# Ideally, we would raise IncompleteRead if the content-length\u001b[39;00m\n\u001b[1;32m    468\u001b[0m     \u001b[38;5;66;03m# wasn't satisfied, but it might break compatibility.\u001b[39;00m\n\u001b[1;32m    469\u001b[0m     \u001b[38;5;28mself\u001b[39m\u001b[38;5;241m.\u001b[39m_close_conn()\n",
      "File \u001b[0;32m~/miniconda3/envs/experimental/lib/python3.10/socket.py:705\u001b[0m, in \u001b[0;36mSocketIO.readinto\u001b[0;34m(self, b)\u001b[0m\n\u001b[1;32m    703\u001b[0m \u001b[38;5;28;01mwhile\u001b[39;00m \u001b[38;5;28;01mTrue\u001b[39;00m:\n\u001b[1;32m    704\u001b[0m     \u001b[38;5;28;01mtry\u001b[39;00m:\n\u001b[0;32m--> 705\u001b[0m         \u001b[38;5;28;01mreturn\u001b[39;00m \u001b[38;5;28;43mself\u001b[39;49m\u001b[38;5;241;43m.\u001b[39;49m\u001b[43m_sock\u001b[49m\u001b[38;5;241;43m.\u001b[39;49m\u001b[43mrecv_into\u001b[49m\u001b[43m(\u001b[49m\u001b[43mb\u001b[49m\u001b[43m)\u001b[49m\n\u001b[1;32m    706\u001b[0m     \u001b[38;5;28;01mexcept\u001b[39;00m timeout:\n\u001b[1;32m    707\u001b[0m         \u001b[38;5;28mself\u001b[39m\u001b[38;5;241m.\u001b[39m_timeout_occurred \u001b[38;5;241m=\u001b[39m \u001b[38;5;28;01mTrue\u001b[39;00m\n",
      "File \u001b[0;32m~/miniconda3/envs/experimental/lib/python3.10/ssl.py:1274\u001b[0m, in \u001b[0;36mSSLSocket.recv_into\u001b[0;34m(self, buffer, nbytes, flags)\u001b[0m\n\u001b[1;32m   1270\u001b[0m     \u001b[38;5;28;01mif\u001b[39;00m flags \u001b[38;5;241m!=\u001b[39m \u001b[38;5;241m0\u001b[39m:\n\u001b[1;32m   1271\u001b[0m         \u001b[38;5;28;01mraise\u001b[39;00m \u001b[38;5;167;01mValueError\u001b[39;00m(\n\u001b[1;32m   1272\u001b[0m           \u001b[38;5;124m\"\u001b[39m\u001b[38;5;124mnon-zero flags not allowed in calls to recv_into() on \u001b[39m\u001b[38;5;132;01m%s\u001b[39;00m\u001b[38;5;124m\"\u001b[39m \u001b[38;5;241m%\u001b[39m\n\u001b[1;32m   1273\u001b[0m           \u001b[38;5;28mself\u001b[39m\u001b[38;5;241m.\u001b[39m\u001b[38;5;18m__class__\u001b[39m)\n\u001b[0;32m-> 1274\u001b[0m     \u001b[38;5;28;01mreturn\u001b[39;00m \u001b[38;5;28;43mself\u001b[39;49m\u001b[38;5;241;43m.\u001b[39;49m\u001b[43mread\u001b[49m\u001b[43m(\u001b[49m\u001b[43mnbytes\u001b[49m\u001b[43m,\u001b[49m\u001b[43m \u001b[49m\u001b[43mbuffer\u001b[49m\u001b[43m)\u001b[49m\n\u001b[1;32m   1275\u001b[0m \u001b[38;5;28;01melse\u001b[39;00m:\n\u001b[1;32m   1276\u001b[0m     \u001b[38;5;28;01mreturn\u001b[39;00m \u001b[38;5;28msuper\u001b[39m()\u001b[38;5;241m.\u001b[39mrecv_into(buffer, nbytes, flags)\n",
      "File \u001b[0;32m~/miniconda3/envs/experimental/lib/python3.10/ssl.py:1130\u001b[0m, in \u001b[0;36mSSLSocket.read\u001b[0;34m(self, len, buffer)\u001b[0m\n\u001b[1;32m   1128\u001b[0m \u001b[38;5;28;01mtry\u001b[39;00m:\n\u001b[1;32m   1129\u001b[0m     \u001b[38;5;28;01mif\u001b[39;00m buffer \u001b[38;5;129;01mis\u001b[39;00m \u001b[38;5;129;01mnot\u001b[39;00m \u001b[38;5;28;01mNone\u001b[39;00m:\n\u001b[0;32m-> 1130\u001b[0m         \u001b[38;5;28;01mreturn\u001b[39;00m \u001b[38;5;28;43mself\u001b[39;49m\u001b[38;5;241;43m.\u001b[39;49m\u001b[43m_sslobj\u001b[49m\u001b[38;5;241;43m.\u001b[39;49m\u001b[43mread\u001b[49m\u001b[43m(\u001b[49m\u001b[38;5;28;43mlen\u001b[39;49m\u001b[43m,\u001b[49m\u001b[43m \u001b[49m\u001b[43mbuffer\u001b[49m\u001b[43m)\u001b[49m\n\u001b[1;32m   1131\u001b[0m     \u001b[38;5;28;01melse\u001b[39;00m:\n\u001b[1;32m   1132\u001b[0m         \u001b[38;5;28;01mreturn\u001b[39;00m \u001b[38;5;28mself\u001b[39m\u001b[38;5;241m.\u001b[39m_sslobj\u001b[38;5;241m.\u001b[39mread(\u001b[38;5;28mlen\u001b[39m)\n",
      "\u001b[0;31mKeyboardInterrupt\u001b[0m: "
     ]
    }
   ],
   "source": [
    "url = 'https://drive.google.com/uc?id=1YlvpDLix3S-U8fd-gqRwPcWXAXm8JwjL'\n",
    "output = 'data.zip'\n",
    "gdown.download(url, output, quiet=False)\n",
    "gdown.extractall('data.zip')"
   ]
  },
  {
   "cell_type": "code",
   "execution_count": 38,
   "id": "d3397390-3a7f-47ac-baae-c23819c98000",
   "metadata": {},
   "outputs": [],
   "source": [
    "def load_video(path:str) -> List[float]:\n",
    "    \n",
    "    cap = cv2.VideoCapture(path)\n",
    "    frames = []\n",
    "    for _ in range(int(cap.get(cv2.CAP_PROP_FRAME_COUNT))):\n",
    "        ret, frame = cap.read()\n",
    "        frame = tf.image.rgb_to_grayscale(frame)\n",
    "        frames.append(frame[190:236,80:220,:])\n",
    "    cap.release()\n",
    "    \n",
    "    mean = tf.math.reduce_mean(frames)\n",
    "    std = tf.math.reduce_std(tf.cast(frames, tf.float32))\n",
    "    return tf.cast((frames - mean), tf.float32) / std"
   ]
  },
  {
   "cell_type": "code",
   "execution_count": 139,
   "id": "c3281cbb-5a73-4d97-bc61-b18360303d5f",
   "metadata": {},
   "outputs": [],
   "source": [
    "vocab = [x for x in \"abcdefghijklmnopqrstuvwxyz'!?123456789 \"]"
   ]
  },
  {
   "cell_type": "code",
   "execution_count": 140,
   "id": "d40e853c-432a-406b-ac4d-32bf60228b08",
   "metadata": {},
   "outputs": [
    {
     "name": "stdout",
     "output_type": "stream",
     "text": [
      "WARNING:tensorflow:vocab_size is deprecated, please use vocabulary_size.\n",
      "The vocabulary is: ['', 'a', 'b', 'c', 'd', 'e', 'f', 'g', 'h', 'i', 'j', 'k', 'l', 'm', 'n', 'o', 'p', 'q', 'r', 's', 't', 'u', 'v', 'w', 'x', 'y', 'z', \"'\", '!', '?', '1', '2', '3', '4', '5', '6', '7', '8', '9', ' '] (Size = 40)\n"
     ]
    }
   ],
   "source": [
    "char_to_num = tf.keras.layers.StringLookup(vocabulary=vocab, oov_token=\"\")\n",
    "num_to_char = tf.keras.layers.StringLookup(\n",
    "    vocabulary=char_to_num.get_vocabulary(), oov_token=\"\", invert=True)\n",
    "\n",
    "print(f'The vocabulary is: {char_to_num.get_vocabulary()}'\n",
    "      f' (Size = {char_to_num.vocab_size()})')"
   ]
  },
  {
   "cell_type": "code",
   "execution_count": 141,
   "id": "58597f0a-2371-40a2-b3eb-bcf93d97b8a6",
   "metadata": {},
   "outputs": [
    {
     "data": {
      "text/plain": [
       "<tf.Tensor: shape=(5,), dtype=int64, numpy=array([12,  9, 18,  1, 14])>"
      ]
     },
     "execution_count": 141,
     "metadata": {},
     "output_type": "execute_result"
    }
   ],
   "source": [
    "char_to_num([\"l\", \"i\", \"r\", \"a\", \"n\"])"
   ]
  },
  {
   "cell_type": "code",
   "execution_count": 142,
   "id": "db798532-3aa0-4989-bcc7-a1e9399fd7b4",
   "metadata": {},
   "outputs": [
    {
     "data": {
      "text/plain": [
       "<tf.Tensor: shape=(5,), dtype=string, numpy=array([b'l', b'i', b'r', b'a', b'n'], dtype=object)>"
      ]
     },
     "execution_count": 142,
     "metadata": {},
     "output_type": "execute_result"
    }
   ],
   "source": [
    "num_to_char([12,  9, 18,  1, 14])"
   ]
  },
  {
   "cell_type": "code",
   "execution_count": 143,
   "id": "4e7ed5a2-dca3-4bb0-9ea0-c011f555fa08",
   "metadata": {},
   "outputs": [],
   "source": [
    "def load_alignments(path:str) -> List[str]:\n",
    "    with open(path, 'r') as f:\n",
    "        lines = f.readlines()\n",
    "    tokens = []\n",
    "    for line in lines:\n",
    "        line = line.split()\n",
    "        if line[2] != 'sil':\n",
    "            tokens = [*tokens, ' ', line[2]]\n",
    "    return char_to_num(tf.reshape(tf.strings.unicode_split(tokens, input_encoding='UTF-8'), (-1)))[1:]"
   ]
  },
  {
   "cell_type": "code",
   "execution_count": 144,
   "id": "165feaa0-f6dd-4aef-85de-e6433b53f22d",
   "metadata": {},
   "outputs": [],
   "source": [
    "def load_data(path: str):\n",
    "    path = bytes.decode(path.numpy())\n",
    "    file_name = path.split(\"/\")[-1].split(\".\")[0]\n",
    "    video_path = os.path.join(\"Data\", \"s1\", f'{file_name}.mpg')\n",
    "    alignment_path = os.path.join(\"Data\", \"alignments\", \"s1\", f'{file_name}.align')\n",
    "    frames = load_video(video_path)\n",
    "    alignments = load_alignments(alignment_path)\n",
    "    \n",
    "    return frames, alignments"
   ]
  },
  {
   "cell_type": "code",
   "execution_count": 145,
   "id": "79c48fd4-ed59-4ce7-80f8-d72b993b6dff",
   "metadata": {},
   "outputs": [],
   "source": [
    "test_path = \"./Data/s1/bbal6n.mpg\""
   ]
  },
  {
   "cell_type": "code",
   "execution_count": 146,
   "id": "19cc7c22-a444-4518-a44e-98aa6a500240",
   "metadata": {},
   "outputs": [
    {
     "data": {
      "text/plain": [
       "['.', 'Data', 's1', 'bbal6n.mpg']"
      ]
     },
     "execution_count": 146,
     "metadata": {},
     "output_type": "execute_result"
    }
   ],
   "source": [
    "tf.convert_to_tensor(test_path).numpy().decode(\"UTF-8\").split(\"/\")"
   ]
  },
  {
   "cell_type": "code",
   "execution_count": 147,
   "id": "5e3a1b50-0082-48af-81c6-13427edf4300",
   "metadata": {},
   "outputs": [
    {
     "data": {
      "text/plain": [
       "'bbal6n'"
      ]
     },
     "execution_count": 147,
     "metadata": {},
     "output_type": "execute_result"
    }
   ],
   "source": [
    "tf.convert_to_tensor(test_path).numpy().decode(\"UTF-8\").split(\"/\")[-1].split(\".\")[0]"
   ]
  },
  {
   "cell_type": "code",
   "execution_count": 148,
   "id": "0c5b8fca-faba-45f8-971f-8830a546ebca",
   "metadata": {
    "scrolled": true,
    "tags": []
   },
   "outputs": [],
   "source": [
    "frames, alignments = load_data(tf.convert_to_tensor(test_path))"
   ]
  },
  {
   "cell_type": "code",
   "execution_count": 149,
   "id": "89cacc9e-7ae6-44b9-aaec-c246276d3967",
   "metadata": {
    "scrolled": true,
    "tags": []
   },
   "outputs": [
    {
     "data": {
      "text/plain": [
       "<tf.Tensor: shape=(75, 46, 140, 1), dtype=float32, numpy=\n",
       "array([[[[ 1.4603739 ],\n",
       "         [ 1.4603739 ],\n",
       "         [ 1.4209043 ],\n",
       "         ...,\n",
       "         [ 0.15787826],\n",
       "         [ 0.19734782],\n",
       "         [ 0.07893913]],\n",
       "\n",
       "        [[ 1.4603739 ],\n",
       "         [ 1.4603739 ],\n",
       "         [ 1.4209043 ],\n",
       "         ...,\n",
       "         [ 0.15787826],\n",
       "         [ 0.07893913],\n",
       "         [ 0.03946957]],\n",
       "\n",
       "        [[ 1.4209043 ],\n",
       "         [ 1.4209043 ],\n",
       "         [ 1.3814348 ],\n",
       "         ...,\n",
       "         [ 0.07893913],\n",
       "         [ 0.07893913],\n",
       "         [ 0.07893913]],\n",
       "\n",
       "        ...,\n",
       "\n",
       "        [[ 0.94726956],\n",
       "         [ 0.94726956],\n",
       "         [ 0.94726956],\n",
       "         ...,\n",
       "         [ 9.94633   ],\n",
       "         [ 9.867392  ],\n",
       "         [ 9.867392  ]],\n",
       "\n",
       "        [[ 0.94726956],\n",
       "         [ 0.94726956],\n",
       "         [ 0.94726956],\n",
       "         ...,\n",
       "         [ 9.90686   ],\n",
       "         [ 9.867392  ],\n",
       "         [ 9.867392  ]],\n",
       "\n",
       "        [[ 0.94726956],\n",
       "         [ 0.94726956],\n",
       "         [ 0.94726956],\n",
       "         ...,\n",
       "         [ 9.90686   ],\n",
       "         [ 9.867392  ],\n",
       "         [ 9.867392  ]]],\n",
       "\n",
       "\n",
       "       [[[ 1.4209043 ],\n",
       "         [ 1.4209043 ],\n",
       "         [ 1.3419652 ],\n",
       "         ...,\n",
       "         [ 0.19734782],\n",
       "         [ 0.11840869],\n",
       "         [ 0.15787826]],\n",
       "\n",
       "        [[ 1.4209043 ],\n",
       "         [ 1.4209043 ],\n",
       "         [ 1.3419652 ],\n",
       "         ...,\n",
       "         [ 0.23681739],\n",
       "         [ 0.        ],\n",
       "         [ 0.03946957]],\n",
       "\n",
       "        [[ 1.3419652 ],\n",
       "         [ 1.3419652 ],\n",
       "         [ 1.3024956 ],\n",
       "         ...,\n",
       "         [ 0.11840869],\n",
       "         [ 0.15787826],\n",
       "         [ 0.15787826]],\n",
       "\n",
       "        ...,\n",
       "\n",
       "        [[ 0.94726956],\n",
       "         [ 0.94726956],\n",
       "         [ 0.94726956],\n",
       "         ...,\n",
       "         [10.0252695 ],\n",
       "         [ 9.94633   ],\n",
       "         [ 9.94633   ]],\n",
       "\n",
       "        [[ 0.90779996],\n",
       "         [ 0.90779996],\n",
       "         [ 0.90779996],\n",
       "         ...,\n",
       "         [ 9.94633   ],\n",
       "         [ 9.90686   ],\n",
       "         [ 9.90686   ]],\n",
       "\n",
       "        [[ 0.90779996],\n",
       "         [ 0.90779996],\n",
       "         [ 0.90779996],\n",
       "         ...,\n",
       "         [ 9.94633   ],\n",
       "         [ 9.90686   ],\n",
       "         [ 9.90686   ]]],\n",
       "\n",
       "\n",
       "       [[[ 1.4209043 ],\n",
       "         [ 1.4209043 ],\n",
       "         [ 1.3419652 ],\n",
       "         ...,\n",
       "         [ 0.15787826],\n",
       "         [ 0.07893913],\n",
       "         [ 0.15787826]],\n",
       "\n",
       "        [[ 1.4209043 ],\n",
       "         [ 1.4209043 ],\n",
       "         [ 1.3419652 ],\n",
       "         ...,\n",
       "         [ 0.27628696],\n",
       "         [ 0.03946957],\n",
       "         [ 0.15787826]],\n",
       "\n",
       "        [[ 1.3419652 ],\n",
       "         [ 1.3024956 ],\n",
       "         [ 1.3419652 ],\n",
       "         ...,\n",
       "         [ 0.11840869],\n",
       "         [ 0.11840869],\n",
       "         [ 0.11840869]],\n",
       "\n",
       "        ...,\n",
       "\n",
       "        [[ 0.9867391 ],\n",
       "         [ 0.9867391 ],\n",
       "         [ 0.94726956],\n",
       "         ...,\n",
       "         [ 9.9858    ],\n",
       "         [ 9.9858    ],\n",
       "         [ 9.9858    ]],\n",
       "\n",
       "        [[ 0.94726956],\n",
       "         [ 0.94726956],\n",
       "         [ 0.90779996],\n",
       "         ...,\n",
       "         [ 9.94633   ],\n",
       "         [ 9.90686   ],\n",
       "         [ 9.90686   ]],\n",
       "\n",
       "        [[ 0.94726956],\n",
       "         [ 0.94726956],\n",
       "         [ 0.90779996],\n",
       "         ...,\n",
       "         [ 9.94633   ],\n",
       "         [ 9.90686   ],\n",
       "         [ 9.90686   ]]],\n",
       "\n",
       "\n",
       "       ...,\n",
       "\n",
       "\n",
       "       [[[ 1.3814348 ],\n",
       "         [ 1.3814348 ],\n",
       "         [ 1.4209043 ],\n",
       "         ...,\n",
       "         [ 0.19734782],\n",
       "         [ 0.15787826],\n",
       "         [ 0.07893913]],\n",
       "\n",
       "        [[ 1.3814348 ],\n",
       "         [ 1.3814348 ],\n",
       "         [ 1.4209043 ],\n",
       "         ...,\n",
       "         [ 0.11840869],\n",
       "         [ 0.11840869],\n",
       "         [ 0.07893913]],\n",
       "\n",
       "        [[ 1.3024956 ],\n",
       "         [ 1.3024956 ],\n",
       "         [ 1.3024956 ],\n",
       "         ...,\n",
       "         [ 0.11840869],\n",
       "         [ 0.11840869],\n",
       "         [ 0.15787826]],\n",
       "\n",
       "        ...,\n",
       "\n",
       "        [[ 0.9867391 ],\n",
       "         [ 0.94726956],\n",
       "         [ 0.94726956],\n",
       "         ...,\n",
       "         [ 9.90686   ],\n",
       "         [ 9.867392  ],\n",
       "         [ 9.867392  ]],\n",
       "\n",
       "        [[ 0.94726956],\n",
       "         [ 0.94726956],\n",
       "         [ 0.94726956],\n",
       "         ...,\n",
       "         [ 9.90686   ],\n",
       "         [ 9.867392  ],\n",
       "         [ 9.867392  ]],\n",
       "\n",
       "        [[ 0.94726956],\n",
       "         [ 0.94726956],\n",
       "         [ 0.94726956],\n",
       "         ...,\n",
       "         [ 9.90686   ],\n",
       "         [ 9.867392  ],\n",
       "         [ 9.867392  ]]],\n",
       "\n",
       "\n",
       "       [[[ 1.3419652 ],\n",
       "         [ 1.3419652 ],\n",
       "         [ 1.3814348 ],\n",
       "         ...,\n",
       "         [ 0.15787826],\n",
       "         [ 0.07893913],\n",
       "         [ 0.        ]],\n",
       "\n",
       "        [[ 1.3419652 ],\n",
       "         [ 1.3419652 ],\n",
       "         [ 1.3814348 ],\n",
       "         ...,\n",
       "         [ 0.15787826],\n",
       "         [ 0.11840869],\n",
       "         [ 0.03946957]],\n",
       "\n",
       "        [[ 1.3024956 ],\n",
       "         [ 1.3024956 ],\n",
       "         [ 1.3024956 ],\n",
       "         ...,\n",
       "         [ 0.11840869],\n",
       "         [ 0.07893913],\n",
       "         [ 0.11840869]],\n",
       "\n",
       "        ...,\n",
       "\n",
       "        [[ 0.94726956],\n",
       "         [ 0.90779996],\n",
       "         [ 0.90779996],\n",
       "         ...,\n",
       "         [ 9.867392  ],\n",
       "         [ 9.827922  ],\n",
       "         [ 9.827922  ]],\n",
       "\n",
       "        [[ 0.90779996],\n",
       "         [ 0.90779996],\n",
       "         [ 0.90779996],\n",
       "         ...,\n",
       "         [ 9.867392  ],\n",
       "         [ 9.827922  ],\n",
       "         [ 9.827922  ]],\n",
       "\n",
       "        [[ 0.90779996],\n",
       "         [ 0.90779996],\n",
       "         [ 0.90779996],\n",
       "         ...,\n",
       "         [ 9.867392  ],\n",
       "         [ 9.827922  ],\n",
       "         [ 9.827922  ]]],\n",
       "\n",
       "\n",
       "       [[[ 1.3024956 ],\n",
       "         [ 1.3024956 ],\n",
       "         [ 1.3814348 ],\n",
       "         ...,\n",
       "         [ 0.07893913],\n",
       "         [ 0.07893913],\n",
       "         [ 0.15787826]],\n",
       "\n",
       "        [[ 1.3024956 ],\n",
       "         [ 1.3024956 ],\n",
       "         [ 1.3814348 ],\n",
       "         ...,\n",
       "         [ 0.        ],\n",
       "         [ 0.07893913],\n",
       "         [ 0.23681739]],\n",
       "\n",
       "        [[ 1.3419652 ],\n",
       "         [ 1.3419652 ],\n",
       "         [ 1.3419652 ],\n",
       "         ...,\n",
       "         [ 0.07893913],\n",
       "         [ 0.07893913],\n",
       "         [ 0.07893913]],\n",
       "\n",
       "        ...,\n",
       "\n",
       "        [[ 0.90779996],\n",
       "         [ 0.90779996],\n",
       "         [ 0.90779996],\n",
       "         ...,\n",
       "         [ 9.90686   ],\n",
       "         [ 9.867392  ],\n",
       "         [ 9.867392  ]],\n",
       "\n",
       "        [[ 0.90779996],\n",
       "         [ 0.90779996],\n",
       "         [ 0.90779996],\n",
       "         ...,\n",
       "         [ 9.94633   ],\n",
       "         [ 9.867392  ],\n",
       "         [ 9.867392  ]],\n",
       "\n",
       "        [[ 0.90779996],\n",
       "         [ 0.90779996],\n",
       "         [ 0.90779996],\n",
       "         ...,\n",
       "         [ 9.94633   ],\n",
       "         [ 9.867392  ],\n",
       "         [ 9.867392  ]]]], dtype=float32)>"
      ]
     },
     "execution_count": 149,
     "metadata": {},
     "output_type": "execute_result"
    }
   ],
   "source": [
    "frames"
   ]
  },
  {
   "cell_type": "code",
   "execution_count": 150,
   "id": "fb9844b5-8b43-4a72-adc6-0f5f4002de13",
   "metadata": {},
   "outputs": [
    {
     "data": {
      "text/plain": [
       "<matplotlib.image.AxesImage at 0x1bf62d180>"
      ]
     },
     "execution_count": 150,
     "metadata": {},
     "output_type": "execute_result"
    },
    {
     "data": {
      "image/png": "[encoded data removed]",
      "text/plain": [
       "<Figure size 432x288 with 1 Axes>"
      ]
     },
     "metadata": {
      "needs_background": "light"
     },
     "output_type": "display_data"
    }
   ],
   "source": [
    "plt.imshow(frames[40])"
   ]
  },
  {
   "cell_type": "code",
   "execution_count": 151,
   "id": "f971c4fc-4c2a-4ed3-a520-d1d2b0bf7fcc",
   "metadata": {},
   "outputs": [
    {
     "data": {
      "text/plain": [
       "<tf.Tensor: shape=(21,), dtype=int64, numpy=\n",
       "array([ 2,  9, 14, 39,  2, 12, 21,  5, 39,  1, 20, 39, 12, 39, 19,  9, 24,\n",
       "       39, 14, 15, 23])>"
      ]
     },
     "execution_count": 151,
     "metadata": {},
     "output_type": "execute_result"
    }
   ],
   "source": [
    "alignments"
   ]
  },
  {
   "cell_type": "code",
   "execution_count": 152,
   "id": "780494bb-3f2c-4f3b-86ec-ea3a01236aca",
   "metadata": {},
   "outputs": [
    {
     "data": {
      "text/plain": [
       "<tf.Tensor: shape=(), dtype=string, numpy=b'bin blue at l six now'>"
      ]
     },
     "execution_count": 152,
     "metadata": {},
     "output_type": "execute_result"
    }
   ],
   "source": [
    "tf.strings.reduce_join([bytes.decode(x) for x in num_to_char(alignments.numpy()).numpy()])"
   ]
  },
  {
   "cell_type": "code",
   "execution_count": 153,
   "id": "baa18521-6450-4093-9b25-fd6e9307f931",
   "metadata": {},
   "outputs": [],
   "source": [
    "def mappable_function(path:str) -> List[str]:\n",
    "    result = tf.py_function(load_data, [path], (tf.float32, tf.int64))\n",
    "    return result"
   ]
  },
  {
   "cell_type": "code",
   "execution_count": 189,
   "id": "44510141-ba89-4337-b266-6766e4fc9546",
   "metadata": {},
   "outputs": [],
   "source": [
    "data = tf.data.Dataset.list_files(\"./Data/s1/*.mpg\")\n",
    "data = data.shuffle(500)\n",
    "data = data.map(mappable_function)\n",
    "data = data.padded_batch(2, padded_shapes=([75, None, None, None], [40]))\n",
    "data = data.prefetch(tf.data.AUTOTUNE)\n",
    "train = data.take(450)\n",
    "test = data.skip(450)"
   ]
  },
  {
   "cell_type": "code",
   "execution_count": 190,
   "id": "7f914a05-3c8e-411e-9c53-4c6b58ec671c",
   "metadata": {},
   "outputs": [],
   "source": [
    "frames, alignments = data.as_numpy_iterator().next()"
   ]
  },
  {
   "cell_type": "code",
   "execution_count": 191,
   "id": "448007ae-a4d1-4572-9aa8-01cf014ca4f7",
   "metadata": {
    "tags": []
   },
   "outputs": [
    {
     "data": {
      "text/plain": [
       "2"
      ]
     },
     "execution_count": 191,
     "metadata": {},
     "output_type": "execute_result"
    }
   ],
   "source": [
    "len(frames)"
   ]
  },
  {
   "cell_type": "code",
   "execution_count": 192,
   "id": "33568e8c-fc8f-402e-af8e-16f32836f31f",
   "metadata": {},
   "outputs": [
    {
     "data": {
      "text/plain": [
       "array([[19,  5, 20, 39, 23,  8,  9, 20,  5, 39,  2, 25, 39, 15, 39, 14,\n",
       "         9, 14,  5, 39, 19, 15, 15, 14,  0,  0,  0,  0,  0,  0,  0,  0,\n",
       "         0,  0,  0,  0,  0,  0,  0,  0],\n",
       "       [19,  5, 20, 39, 23,  8,  9, 20,  5, 39, 23,  9, 20,  8, 39, 16,\n",
       "        39,  6, 15, 21, 18, 39, 16, 12,  5,  1, 19,  5,  0,  0,  0,  0,\n",
       "         0,  0,  0,  0,  0,  0,  0,  0]])"
      ]
     },
     "execution_count": 192,
     "metadata": {},
     "output_type": "execute_result"
    }
   ],
   "source": [
    "alignments # Trailing 0's as padded"
   ]
  },
  {
   "cell_type": "code",
   "execution_count": 193,
   "id": "66db7b31-1a15-406e-981a-da1170db7d4d",
   "metadata": {},
   "outputs": [],
   "source": [
    "test = data.as_numpy_iterator()"
   ]
  },
  {
   "cell_type": "code",
   "execution_count": 194,
   "id": "9ac0d254-067a-44da-96b0-30b4417c85d1",
   "metadata": {
    "scrolled": true,
    "tags": []
   },
   "outputs": [
    {
     "data": {
      "text/plain": [
       "array([[[[[1.4227918 ],\n",
       "          [1.4227918 ],\n",
       "          [1.384338  ],\n",
       "          ...,\n",
       "          [9.113559  ],\n",
       "          [9.382735  ],\n",
       "          [9.421189  ]],\n",
       "\n",
       "         [[1.4227918 ],\n",
       "          [1.4227918 ],\n",
       "          [1.384338  ],\n",
       "          ...,\n",
       "          [8.72902   ],\n",
       "          [9.344282  ],\n",
       "          [9.5365505 ]],\n",
       "\n",
       "         [[1.3074304 ],\n",
       "          [1.3074304 ],\n",
       "          [1.3074304 ],\n",
       "          ...,\n",
       "          [9.575005  ],\n",
       "          [0.03845384],\n",
       "          [0.03845384]],\n",
       "\n",
       "         ...,\n",
       "\n",
       "         [[0.96134585],\n",
       "          [0.96134585],\n",
       "          [0.92289203],\n",
       "          ...,\n",
       "          [9.767274  ],\n",
       "          [9.767274  ],\n",
       "          [9.767274  ]],\n",
       "\n",
       "         [[0.96134585],\n",
       "          [0.96134585],\n",
       "          [0.92289203],\n",
       "          ...,\n",
       "          [9.651913  ],\n",
       "          [9.690367  ],\n",
       "          [9.690367  ]],\n",
       "\n",
       "         [[0.96134585],\n",
       "          [0.96134585],\n",
       "          [0.92289203],\n",
       "          ...,\n",
       "          [9.651913  ],\n",
       "          [9.690367  ],\n",
       "          [9.690367  ]]],\n",
       "\n",
       "\n",
       "        [[[1.2689766 ],\n",
       "          [1.2689766 ],\n",
       "          [1.2305228 ],\n",
       "          ...,\n",
       "          [9.075105  ],\n",
       "          [9.575005  ],\n",
       "          [9.498097  ]],\n",
       "\n",
       "         [[1.2689766 ],\n",
       "          [1.2689766 ],\n",
       "          [1.2305228 ],\n",
       "          ...,\n",
       "          [8.767474  ],\n",
       "          [9.498097  ],\n",
       "          [9.498097  ]],\n",
       "\n",
       "         [[1.3074304 ],\n",
       "          [1.3074304 ],\n",
       "          [1.3074304 ],\n",
       "          ...,\n",
       "          [9.498097  ],\n",
       "          [9.805728  ],\n",
       "          [9.805728  ]],\n",
       "\n",
       "         ...,\n",
       "\n",
       "         [[0.96134585],\n",
       "          [0.96134585],\n",
       "          [0.96134585],\n",
       "          ...,\n",
       "          [9.690367  ],\n",
       "          [9.690367  ],\n",
       "          [9.690367  ]],\n",
       "\n",
       "         [[0.92289203],\n",
       "          [0.92289203],\n",
       "          [0.92289203],\n",
       "          ...,\n",
       "          [9.613459  ],\n",
       "          [9.575005  ],\n",
       "          [9.575005  ]],\n",
       "\n",
       "         [[0.92289203],\n",
       "          [0.92289203],\n",
       "          [0.92289203],\n",
       "          ...,\n",
       "          [9.613459  ],\n",
       "          [9.575005  ],\n",
       "          [9.575005  ]]],\n",
       "\n",
       "\n",
       "        [[[1.4612457 ],\n",
       "          [1.384338  ],\n",
       "          [1.3458842 ],\n",
       "          ...,\n",
       "          [9.075105  ],\n",
       "          [9.575005  ],\n",
       "          [9.498097  ]],\n",
       "\n",
       "         [[1.4612457 ],\n",
       "          [1.4612457 ],\n",
       "          [1.4227918 ],\n",
       "          ...,\n",
       "          [8.767474  ],\n",
       "          [9.5365505 ],\n",
       "          [9.5365505 ]],\n",
       "\n",
       "         [[1.3458842 ],\n",
       "          [1.3458842 ],\n",
       "          [1.3458842 ],\n",
       "          ...,\n",
       "          [9.498097  ],\n",
       "          [0.        ],\n",
       "          [0.        ]],\n",
       "\n",
       "         ...,\n",
       "\n",
       "         [[0.8844382 ],\n",
       "          [0.92289203],\n",
       "          [0.8844382 ],\n",
       "          ...,\n",
       "          [9.690367  ],\n",
       "          [9.72882   ],\n",
       "          [9.72882   ]],\n",
       "\n",
       "         [[0.96134585],\n",
       "          [0.96134585],\n",
       "          [0.92289203],\n",
       "          ...,\n",
       "          [9.651913  ],\n",
       "          [9.613459  ],\n",
       "          [9.613459  ]],\n",
       "\n",
       "         [[0.96134585],\n",
       "          [0.96134585],\n",
       "          [0.92289203],\n",
       "          ...,\n",
       "          [9.651913  ],\n",
       "          [9.613459  ],\n",
       "          [9.613459  ]]],\n",
       "\n",
       "\n",
       "        ...,\n",
       "\n",
       "\n",
       "        [[[1.3458842 ],\n",
       "          [1.3458842 ],\n",
       "          [1.3458842 ],\n",
       "          ...,\n",
       "          [9.305828  ],\n",
       "          [0.03845384],\n",
       "          [9.805728  ]],\n",
       "\n",
       "         [[1.3458842 ],\n",
       "          [1.3458842 ],\n",
       "          [1.3458842 ],\n",
       "          ...,\n",
       "          [9.305828  ],\n",
       "          [9.767274  ],\n",
       "          [0.15381534]],\n",
       "\n",
       "         [[1.3074304 ],\n",
       "          [1.3074304 ],\n",
       "          [1.3074304 ],\n",
       "          ...,\n",
       "          [9.805728  ],\n",
       "          [0.        ],\n",
       "          [0.        ]],\n",
       "\n",
       "         ...,\n",
       "\n",
       "         [[0.92289203],\n",
       "          [0.92289203],\n",
       "          [0.92289203],\n",
       "          ...,\n",
       "          [9.72882   ],\n",
       "          [9.72882   ],\n",
       "          [9.72882   ]],\n",
       "\n",
       "         [[0.92289203],\n",
       "          [0.92289203],\n",
       "          [0.92289203],\n",
       "          ...,\n",
       "          [9.72882   ],\n",
       "          [9.72882   ],\n",
       "          [9.72882   ]],\n",
       "\n",
       "         [[0.92289203],\n",
       "          [0.92289203],\n",
       "          [0.92289203],\n",
       "          ...,\n",
       "          [9.690367  ],\n",
       "          [9.690367  ],\n",
       "          [9.690367  ]]],\n",
       "\n",
       "\n",
       "        [[[1.3458842 ],\n",
       "          [1.3458842 ],\n",
       "          [1.3458842 ],\n",
       "          ...,\n",
       "          [9.344282  ],\n",
       "          [9.805728  ],\n",
       "          [9.72882   ]],\n",
       "\n",
       "         [[1.3458842 ],\n",
       "          [1.3458842 ],\n",
       "          [1.3458842 ],\n",
       "          ...,\n",
       "          [9.305828  ],\n",
       "          [9.72882   ],\n",
       "          [9.805728  ]],\n",
       "\n",
       "         [[1.3074304 ],\n",
       "          [1.3074304 ],\n",
       "          [1.3074304 ],\n",
       "          ...,\n",
       "          [0.        ],\n",
       "          [0.        ],\n",
       "          [0.15381534]],\n",
       "\n",
       "         ...,\n",
       "\n",
       "         [[0.92289203],\n",
       "          [0.92289203],\n",
       "          [0.92289203],\n",
       "          ...,\n",
       "          [9.690367  ],\n",
       "          [9.72882   ],\n",
       "          [9.72882   ]],\n",
       "\n",
       "         [[0.92289203],\n",
       "          [0.92289203],\n",
       "          [0.92289203],\n",
       "          ...,\n",
       "          [9.72882   ],\n",
       "          [9.72882   ],\n",
       "          [9.72882   ]],\n",
       "\n",
       "         [[0.92289203],\n",
       "          [0.92289203],\n",
       "          [0.92289203],\n",
       "          ...,\n",
       "          [9.651913  ],\n",
       "          [9.651913  ],\n",
       "          [9.651913  ]]],\n",
       "\n",
       "\n",
       "        [[[1.3458842 ],\n",
       "          [1.3458842 ],\n",
       "          [1.384338  ],\n",
       "          ...,\n",
       "          [9.382735  ],\n",
       "          [9.805728  ],\n",
       "          [9.72882   ]],\n",
       "\n",
       "         [[1.3458842 ],\n",
       "          [1.3458842 ],\n",
       "          [1.384338  ],\n",
       "          ...,\n",
       "          [9.267374  ],\n",
       "          [9.767274  ],\n",
       "          [0.03845384]],\n",
       "\n",
       "         [[1.3458842 ],\n",
       "          [1.3458842 ],\n",
       "          [1.3074304 ],\n",
       "          ...,\n",
       "          [0.03845384],\n",
       "          [0.        ],\n",
       "          [0.15381534]],\n",
       "\n",
       "         ...,\n",
       "\n",
       "         [[0.96134585],\n",
       "          [0.96134585],\n",
       "          [0.96134585],\n",
       "          ...,\n",
       "          [9.690367  ],\n",
       "          [9.72882   ],\n",
       "          [9.72882   ]],\n",
       "\n",
       "         [[0.96134585],\n",
       "          [0.96134585],\n",
       "          [0.96134585],\n",
       "          ...,\n",
       "          [9.72882   ],\n",
       "          [9.690367  ],\n",
       "          [9.690367  ]],\n",
       "\n",
       "         [[0.96134585],\n",
       "          [0.96134585],\n",
       "          [0.96134585],\n",
       "          ...,\n",
       "          [9.651913  ],\n",
       "          [9.613459  ],\n",
       "          [9.613459  ]]]],\n",
       "\n",
       "\n",
       "\n",
       "       [[[[1.4195793 ],\n",
       "          [1.4195793 ],\n",
       "          [1.3840898 ],\n",
       "          ...,\n",
       "          [0.35489482],\n",
       "          [0.28391585],\n",
       "          [0.28391585]],\n",
       "\n",
       "         [[1.4195793 ],\n",
       "          [1.4195793 ],\n",
       "          [1.3840898 ],\n",
       "          ...,\n",
       "          [0.35489482],\n",
       "          [0.28391585],\n",
       "          [0.28391585]],\n",
       "\n",
       "         [[1.5260477 ],\n",
       "          [1.5260477 ],\n",
       "          [1.4905583 ],\n",
       "          ...,\n",
       "          [0.35489482],\n",
       "          [0.35489482],\n",
       "          [0.35489482]],\n",
       "\n",
       "         ...,\n",
       "\n",
       "         [[1.0646845 ],\n",
       "          [1.029195  ],\n",
       "          [1.029195  ],\n",
       "          ...,\n",
       "          [0.03548948],\n",
       "          [0.03548948],\n",
       "          [0.03548948]],\n",
       "\n",
       "         [[1.029195  ],\n",
       "          [1.029195  ],\n",
       "          [1.029195  ],\n",
       "          ...,\n",
       "          [0.        ],\n",
       "          [0.        ],\n",
       "          [0.        ]],\n",
       "\n",
       "         [[1.029195  ],\n",
       "          [1.029195  ],\n",
       "          [1.029195  ],\n",
       "          ...,\n",
       "          [0.        ],\n",
       "          [0.        ],\n",
       "          [0.        ]]],\n",
       "\n",
       "\n",
       "        [[[1.4550687 ],\n",
       "          [1.4550687 ],\n",
       "          [1.4905583 ],\n",
       "          ...,\n",
       "          [0.35489482],\n",
       "          [0.31940535],\n",
       "          [0.31940535]],\n",
       "\n",
       "         [[1.4550687 ],\n",
       "          [1.4550687 ],\n",
       "          [1.4905583 ],\n",
       "          ...,\n",
       "          [0.35489482],\n",
       "          [0.31940535],\n",
       "          [0.31940535]],\n",
       "\n",
       "         [[1.4905583 ],\n",
       "          [1.4905583 ],\n",
       "          [1.3486003 ],\n",
       "          ...,\n",
       "          [0.31940535],\n",
       "          [0.31940535],\n",
       "          [0.31940535]],\n",
       "\n",
       "         ...,\n",
       "\n",
       "         [[1.0646845 ],\n",
       "          [1.029195  ],\n",
       "          [1.029195  ],\n",
       "          ...,\n",
       "          [0.07097896],\n",
       "          [0.        ],\n",
       "          [0.        ]],\n",
       "\n",
       "         [[1.029195  ],\n",
       "          [1.029195  ],\n",
       "          [1.029195  ],\n",
       "          ...,\n",
       "          [0.03548948],\n",
       "          [0.        ],\n",
       "          [0.        ]],\n",
       "\n",
       "         [[1.029195  ],\n",
       "          [1.029195  ],\n",
       "          [1.029195  ],\n",
       "          ...,\n",
       "          [0.03548948],\n",
       "          [0.        ],\n",
       "          [0.        ]]],\n",
       "\n",
       "\n",
       "        [[[1.4905583 ],\n",
       "          [1.4905583 ],\n",
       "          [1.4905583 ],\n",
       "          ...,\n",
       "          [0.39038432],\n",
       "          [0.28391585],\n",
       "          [0.28391585]],\n",
       "\n",
       "         [[1.4905583 ],\n",
       "          [1.4905583 ],\n",
       "          [1.4905583 ],\n",
       "          ...,\n",
       "          [0.39038432],\n",
       "          [0.28391585],\n",
       "          [0.28391585]],\n",
       "\n",
       "         [[1.4905583 ],\n",
       "          [1.4905583 ],\n",
       "          [1.3840898 ],\n",
       "          ...,\n",
       "          [0.35489482],\n",
       "          [0.35489482],\n",
       "          [0.35489482]],\n",
       "\n",
       "         ...,\n",
       "\n",
       "         [[1.0646845 ],\n",
       "          [1.029195  ],\n",
       "          [1.029195  ],\n",
       "          ...,\n",
       "          [0.07097896],\n",
       "          [0.07097896],\n",
       "          [0.07097896]],\n",
       "\n",
       "         [[1.029195  ],\n",
       "          [1.029195  ],\n",
       "          [1.029195  ],\n",
       "          ...,\n",
       "          [0.07097896],\n",
       "          [0.        ],\n",
       "          [0.        ]],\n",
       "\n",
       "         [[1.029195  ],\n",
       "          [1.029195  ],\n",
       "          [1.029195  ],\n",
       "          ...,\n",
       "          [0.07097896],\n",
       "          [0.03548948],\n",
       "          [0.03548948]]],\n",
       "\n",
       "\n",
       "        ...,\n",
       "\n",
       "\n",
       "        [[[1.4550687 ],\n",
       "          [1.4550687 ],\n",
       "          [1.3840898 ],\n",
       "          ...,\n",
       "          [0.31940535],\n",
       "          [0.39038432],\n",
       "          [0.35489482]],\n",
       "\n",
       "         [[1.4550687 ],\n",
       "          [1.4550687 ],\n",
       "          [1.3840898 ],\n",
       "          ...,\n",
       "          [0.31940535],\n",
       "          [0.39038432],\n",
       "          [0.35489482]],\n",
       "\n",
       "         [[1.4905583 ],\n",
       "          [1.4550687 ],\n",
       "          [1.4550687 ],\n",
       "          ...,\n",
       "          [0.31940535],\n",
       "          [0.31940535],\n",
       "          [0.31940535]],\n",
       "\n",
       "         ...,\n",
       "\n",
       "         [[0.9937055 ],\n",
       "          [0.9937055 ],\n",
       "          [0.9937055 ],\n",
       "          ...,\n",
       "          [0.07097896],\n",
       "          [0.03548948],\n",
       "          [0.        ]],\n",
       "\n",
       "         [[0.9937055 ],\n",
       "          [0.9937055 ],\n",
       "          [0.9937055 ],\n",
       "          ...,\n",
       "          [0.03548948],\n",
       "          [0.03548948],\n",
       "          [0.        ]],\n",
       "\n",
       "         [[0.9937055 ],\n",
       "          [0.9937055 ],\n",
       "          [0.958216  ],\n",
       "          ...,\n",
       "          [0.        ],\n",
       "          [0.        ],\n",
       "          [9.049818  ]]],\n",
       "\n",
       "\n",
       "        [[[1.4550687 ],\n",
       "          [1.4905583 ],\n",
       "          [1.4550687 ],\n",
       "          ...,\n",
       "          [0.35489482],\n",
       "          [0.39038432],\n",
       "          [0.35489482]],\n",
       "\n",
       "         [[1.4550687 ],\n",
       "          [1.4905583 ],\n",
       "          [1.4550687 ],\n",
       "          ...,\n",
       "          [0.35489482],\n",
       "          [0.39038432],\n",
       "          [0.35489482]],\n",
       "\n",
       "         [[1.5260477 ],\n",
       "          [1.4905583 ],\n",
       "          [1.4550687 ],\n",
       "          ...,\n",
       "          [0.31940535],\n",
       "          [0.31940535],\n",
       "          [0.31940535]],\n",
       "\n",
       "         ...,\n",
       "\n",
       "         [[0.9937055 ],\n",
       "          [0.9937055 ],\n",
       "          [1.029195  ],\n",
       "          ...,\n",
       "          [0.10646845],\n",
       "          [0.03548948],\n",
       "          [0.        ]],\n",
       "\n",
       "         [[0.9937055 ],\n",
       "          [1.029195  ],\n",
       "          [1.029195  ],\n",
       "          ...,\n",
       "          [0.07097896],\n",
       "          [0.03548948],\n",
       "          [0.        ]],\n",
       "\n",
       "         [[1.029195  ],\n",
       "          [1.029195  ],\n",
       "          [0.9937055 ],\n",
       "          ...,\n",
       "          [0.03548948],\n",
       "          [0.        ],\n",
       "          [9.049818  ]]],\n",
       "\n",
       "\n",
       "        [[[1.4195793 ],\n",
       "          [1.4905583 ],\n",
       "          [1.4905583 ],\n",
       "          ...,\n",
       "          [0.31940535],\n",
       "          [0.35489482],\n",
       "          [0.31940535]],\n",
       "\n",
       "         [[1.5260477 ],\n",
       "          [1.5615373 ],\n",
       "          [1.5260477 ],\n",
       "          ...,\n",
       "          [0.31940535],\n",
       "          [0.35489482],\n",
       "          [0.31940535]],\n",
       "\n",
       "         [[1.4550687 ],\n",
       "          [1.3840898 ],\n",
       "          [1.3486003 ],\n",
       "          ...,\n",
       "          [0.31940535],\n",
       "          [0.31940535],\n",
       "          [0.31940535]],\n",
       "\n",
       "         ...,\n",
       "\n",
       "         [[0.9937055 ],\n",
       "          [0.9937055 ],\n",
       "          [1.029195  ],\n",
       "          ...,\n",
       "          [0.07097896],\n",
       "          [0.03548948],\n",
       "          [0.        ]],\n",
       "\n",
       "         [[0.9937055 ],\n",
       "          [1.029195  ],\n",
       "          [1.029195  ],\n",
       "          ...,\n",
       "          [0.03548948],\n",
       "          [0.03548948],\n",
       "          [0.        ]],\n",
       "\n",
       "         [[1.029195  ],\n",
       "          [1.029195  ],\n",
       "          [0.9937055 ],\n",
       "          ...,\n",
       "          [0.        ],\n",
       "          [0.        ],\n",
       "          [9.049818  ]]]]], dtype=float32)"
      ]
     },
     "execution_count": 194,
     "metadata": {},
     "output_type": "execute_result"
    }
   ],
   "source": [
    "val = test.next(); val[0] # Frames"
   ]
  },
  {
   "cell_type": "code",
   "execution_count": 197,
   "id": "3a437c2f-cbaa-4507-82ff-1de52bee46fc",
   "metadata": {
    "collapsed": true,
    "jupyter": {
     "outputs_hidden": true
    },
    "tags": []
   },
   "outputs": [
    {
     "name": "stderr",
     "output_type": "stream",
     "text": [
      "Lossy conversion from float32 to uint8. Range [0.0, 9.04981803894043]. Convert image to uint8 prior to saving to suppress this warning.\n",
      "Lossy conversion from float32 to uint8. Range [0.0, 9.04981803894043]. Convert image to uint8 prior to saving to suppress this warning.\n",
      "Lossy conversion from float32 to uint8. Range [0.0, 9.04981803894043]. Convert image to uint8 prior to saving to suppress this warning.\n",
      "Lossy conversion from float32 to uint8. Range [0.0, 9.04981803894043]. Convert image to uint8 prior to saving to suppress this warning.\n",
      "Lossy conversion from float32 to uint8. Range [0.0, 9.04981803894043]. Convert image to uint8 prior to saving to suppress this warning.\n",
      "Lossy conversion from float32 to uint8. Range [0.0, 9.04981803894043]. Convert image to uint8 prior to saving to suppress this warning.\n",
      "Lossy conversion from float32 to uint8. Range [0.0, 9.04981803894043]. Convert image to uint8 prior to saving to suppress this warning.\n",
      "Lossy conversion from float32 to uint8. Range [0.0, 9.04981803894043]. Convert image to uint8 prior to saving to suppress this warning.\n",
      "Lossy conversion from float32 to uint8. Range [0.0, 9.04981803894043]. Convert image to uint8 prior to saving to suppress this warning.\n",
      "Lossy conversion from float32 to uint8. Range [0.0, 9.04981803894043]. Convert image to uint8 prior to saving to suppress this warning.\n",
      "Lossy conversion from float32 to uint8. Range [0.0, 9.04981803894043]. Convert image to uint8 prior to saving to suppress this warning.\n",
      "Lossy conversion from float32 to uint8. Range [0.0, 9.04981803894043]. Convert image to uint8 prior to saving to suppress this warning.\n",
      "Lossy conversion from float32 to uint8. Range [0.0, 9.04981803894043]. Convert image to uint8 prior to saving to suppress this warning.\n",
      "Lossy conversion from float32 to uint8. Range [0.0, 9.04981803894043]. Convert image to uint8 prior to saving to suppress this warning.\n",
      "Lossy conversion from float32 to uint8. Range [0.0, 9.04981803894043]. Convert image to uint8 prior to saving to suppress this warning.\n",
      "Lossy conversion from float32 to uint8. Range [0.0, 9.04981803894043]. Convert image to uint8 prior to saving to suppress this warning.\n",
      "Lossy conversion from float32 to uint8. Range [0.0, 9.04981803894043]. Convert image to uint8 prior to saving to suppress this warning.\n",
      "Lossy conversion from float32 to uint8. Range [0.0, 9.04981803894043]. Convert image to uint8 prior to saving to suppress this warning.\n",
      "Lossy conversion from float32 to uint8. Range [0.0, 9.04981803894043]. Convert image to uint8 prior to saving to suppress this warning.\n",
      "Lossy conversion from float32 to uint8. Range [0.0, 9.04981803894043]. Convert image to uint8 prior to saving to suppress this warning.\n",
      "Lossy conversion from float32 to uint8. Range [0.0, 9.04981803894043]. Convert image to uint8 prior to saving to suppress this warning.\n",
      "Lossy conversion from float32 to uint8. Range [0.0, 9.04981803894043]. Convert image to uint8 prior to saving to suppress this warning.\n",
      "Lossy conversion from float32 to uint8. Range [0.0, 9.04981803894043]. Convert image to uint8 prior to saving to suppress this warning.\n",
      "Lossy conversion from float32 to uint8. Range [0.0, 9.04981803894043]. Convert image to uint8 prior to saving to suppress this warning.\n",
      "Lossy conversion from float32 to uint8. Range [0.0, 9.04981803894043]. Convert image to uint8 prior to saving to suppress this warning.\n",
      "Lossy conversion from float32 to uint8. Range [0.0, 9.04981803894043]. Convert image to uint8 prior to saving to suppress this warning.\n",
      "Lossy conversion from float32 to uint8. Range [0.0, 9.04981803894043]. Convert image to uint8 prior to saving to suppress this warning.\n",
      "Lossy conversion from float32 to uint8. Range [0.0, 9.04981803894043]. Convert image to uint8 prior to saving to suppress this warning.\n",
      "Lossy conversion from float32 to uint8. Range [0.0, 9.04981803894043]. Convert image to uint8 prior to saving to suppress this warning.\n",
      "Lossy conversion from float32 to uint8. Range [0.0, 9.04981803894043]. Convert image to uint8 prior to saving to suppress this warning.\n",
      "Lossy conversion from float32 to uint8. Range [0.0, 9.04981803894043]. Convert image to uint8 prior to saving to suppress this warning.\n",
      "Lossy conversion from float32 to uint8. Range [0.0, 9.04981803894043]. Convert image to uint8 prior to saving to suppress this warning.\n",
      "Lossy conversion from float32 to uint8. Range [0.0, 9.04981803894043]. Convert image to uint8 prior to saving to suppress this warning.\n",
      "Lossy conversion from float32 to uint8. Range [0.0, 9.04981803894043]. Convert image to uint8 prior to saving to suppress this warning.\n",
      "Lossy conversion from float32 to uint8. Range [0.0, 9.04981803894043]. Convert image to uint8 prior to saving to suppress this warning.\n",
      "Lossy conversion from float32 to uint8. Range [0.0, 9.04981803894043]. Convert image to uint8 prior to saving to suppress this warning.\n",
      "Lossy conversion from float32 to uint8. Range [0.0, 9.04981803894043]. Convert image to uint8 prior to saving to suppress this warning.\n",
      "Lossy conversion from float32 to uint8. Range [0.0, 9.04981803894043]. Convert image to uint8 prior to saving to suppress this warning.\n",
      "Lossy conversion from float32 to uint8. Range [0.0, 9.04981803894043]. Convert image to uint8 prior to saving to suppress this warning.\n",
      "Lossy conversion from float32 to uint8. Range [0.0, 9.04981803894043]. Convert image to uint8 prior to saving to suppress this warning.\n",
      "Lossy conversion from float32 to uint8. Range [0.0, 9.04981803894043]. Convert image to uint8 prior to saving to suppress this warning.\n",
      "Lossy conversion from float32 to uint8. Range [0.0, 9.04981803894043]. Convert image to uint8 prior to saving to suppress this warning.\n",
      "Lossy conversion from float32 to uint8. Range [0.0, 9.04981803894043]. Convert image to uint8 prior to saving to suppress this warning.\n",
      "Lossy conversion from float32 to uint8. Range [0.0, 9.04981803894043]. Convert image to uint8 prior to saving to suppress this warning.\n",
      "Lossy conversion from float32 to uint8. Range [0.0, 9.04981803894043]. Convert image to uint8 prior to saving to suppress this warning.\n",
      "Lossy conversion from float32 to uint8. Range [0.0, 9.04981803894043]. Convert image to uint8 prior to saving to suppress this warning.\n",
      "Lossy conversion from float32 to uint8. Range [0.0, 9.04981803894043]. Convert image to uint8 prior to saving to suppress this warning.\n",
      "Lossy conversion from float32 to uint8. Range [0.0, 9.04981803894043]. Convert image to uint8 prior to saving to suppress this warning.\n",
      "Lossy conversion from float32 to uint8. Range [0.0, 9.04981803894043]. Convert image to uint8 prior to saving to suppress this warning.\n",
      "Lossy conversion from float32 to uint8. Range [0.0, 9.04981803894043]. Convert image to uint8 prior to saving to suppress this warning.\n",
      "Lossy conversion from float32 to uint8. Range [0.0, 9.04981803894043]. Convert image to uint8 prior to saving to suppress this warning.\n",
      "Lossy conversion from float32 to uint8. Range [0.0, 9.04981803894043]. Convert image to uint8 prior to saving to suppress this warning.\n",
      "Lossy conversion from float32 to uint8. Range [0.0, 9.04981803894043]. Convert image to uint8 prior to saving to suppress this warning.\n",
      "Lossy conversion from float32 to uint8. Range [0.0, 9.04981803894043]. Convert image to uint8 prior to saving to suppress this warning.\n",
      "Lossy conversion from float32 to uint8. Range [0.0, 9.04981803894043]. Convert image to uint8 prior to saving to suppress this warning.\n",
      "Lossy conversion from float32 to uint8. Range [0.0, 9.04981803894043]. Convert image to uint8 prior to saving to suppress this warning.\n",
      "Lossy conversion from float32 to uint8. Range [0.0, 9.04981803894043]. Convert image to uint8 prior to saving to suppress this warning.\n",
      "Lossy conversion from float32 to uint8. Range [0.0, 9.04981803894043]. Convert image to uint8 prior to saving to suppress this warning.\n",
      "Lossy conversion from float32 to uint8. Range [0.0, 9.04981803894043]. Convert image to uint8 prior to saving to suppress this warning.\n",
      "Lossy conversion from float32 to uint8. Range [0.0, 9.04981803894043]. Convert image to uint8 prior to saving to suppress this warning.\n",
      "Lossy conversion from float32 to uint8. Range [0.0, 9.04981803894043]. Convert image to uint8 prior to saving to suppress this warning.\n",
      "Lossy conversion from float32 to uint8. Range [0.0, 9.04981803894043]. Convert image to uint8 prior to saving to suppress this warning.\n",
      "Lossy conversion from float32 to uint8. Range [0.0, 9.04981803894043]. Convert image to uint8 prior to saving to suppress this warning.\n",
      "Lossy conversion from float32 to uint8. Range [0.0, 9.04981803894043]. Convert image to uint8 prior to saving to suppress this warning.\n",
      "Lossy conversion from float32 to uint8. Range [0.0, 9.04981803894043]. Convert image to uint8 prior to saving to suppress this warning.\n",
      "Lossy conversion from float32 to uint8. Range [0.0, 9.04981803894043]. Convert image to uint8 prior to saving to suppress this warning.\n",
      "Lossy conversion from float32 to uint8. Range [0.0, 9.04981803894043]. Convert image to uint8 prior to saving to suppress this warning.\n",
      "Lossy conversion from float32 to uint8. Range [0.0, 9.04981803894043]. Convert image to uint8 prior to saving to suppress this warning.\n",
      "Lossy conversion from float32 to uint8. Range [0.0, 9.04981803894043]. Convert image to uint8 prior to saving to suppress this warning.\n",
      "Lossy conversion from float32 to uint8. Range [0.0, 9.04981803894043]. Convert image to uint8 prior to saving to suppress this warning.\n",
      "Lossy conversion from float32 to uint8. Range [0.0, 9.04981803894043]. Convert image to uint8 prior to saving to suppress this warning.\n",
      "Lossy conversion from float32 to uint8. Range [0.0, 9.04981803894043]. Convert image to uint8 prior to saving to suppress this warning.\n",
      "Lossy conversion from float32 to uint8. Range [0.0, 9.04981803894043]. Convert image to uint8 prior to saving to suppress this warning.\n",
      "Lossy conversion from float32 to uint8. Range [0.0, 9.04981803894043]. Convert image to uint8 prior to saving to suppress this warning.\n",
      "Lossy conversion from float32 to uint8. Range [0.0, 9.04981803894043]. Convert image to uint8 prior to saving to suppress this warning.\n"
     ]
    }
   ],
   "source": [
    "imageio.mimsave('./animation.gif', val[0][1], fps=10)"
   ]
  },
  {
   "cell_type": "code",
   "execution_count": 198,
   "id": "1006b90e-05d9-4f15-94d0-65f2790f939d",
   "metadata": {},
   "outputs": [
    {
     "data": {
      "text/plain": [
       "<matplotlib.image.AxesImage at 0x19924be80>"
      ]
     },
     "execution_count": 198,
     "metadata": {},
     "output_type": "execute_result"
    },
    {
     "data": {
      "image/png": "[encoded data removed]",
      "text/plain": [
       "<Figure size 432x288 with 1 Axes>"
      ]
     },
     "metadata": {
      "needs_background": "light"
     },
     "output_type": "display_data"
    }
   ],
   "source": [
    "plt.imshow(val[0][0][74]) # Last frame of the first video"
   ]
  },
  {
   "cell_type": "code",
   "execution_count": 199,
   "id": "8b119ef1-5038-4c9f-a673-c8209eba620f",
   "metadata": {},
   "outputs": [
    {
     "data": {
      "text/plain": [
       "<tf.Tensor: shape=(), dtype=string, numpy=b'set blue at n four please'>"
      ]
     },
     "execution_count": 199,
     "metadata": {},
     "output_type": "execute_result"
    }
   ],
   "source": [
    "tf.strings.reduce_join([num_to_char(word) for word in val[1][0]])"
   ]
  },
  {
   "cell_type": "code",
   "execution_count": 200,
   "id": "d9cb88d1-d68b-4056-9790-91a88116cd9c",
   "metadata": {},
   "outputs": [],
   "source": [
    "from tensorflow.keras.models import Sequential\n",
    "from tensorflow.keras.layers import Conv3D, LSTM, Dense, Dropout, Bidirectional, Activation, MaxPool3D, Reshape, SpatialDropout3D, BatchNormalization, TimeDistributed, Flatten\n",
    "from tensorflow.keras.optimizers import Adam\n",
    "from tensorflow.keras.callbacks import ModelCheckpoint, LearningRateScheduler\n"
   ]
  },
  {
   "cell_type": "code",
   "execution_count": 201,
   "id": "94a39dea-7e6a-4cb5-a80a-1e4931b44c14",
   "metadata": {},
   "outputs": [
    {
     "data": {
      "text/plain": [
       "(75, 46, 140, 1)"
      ]
     },
     "execution_count": 201,
     "metadata": {},
     "output_type": "execute_result"
    }
   ],
   "source": [
    "data.as_numpy_iterator().next()[0][0].shape"
   ]
  },
  {
   "cell_type": "code",
   "execution_count": 202,
   "id": "faf1f0be-a47f-4a0f-95a0-395a2d370348",
   "metadata": {},
   "outputs": [],
   "source": [
    "model = Sequential()\n",
    "model.add(Conv3D(128, 3, input_shape=(75,46,140,1), padding=\"same\"))\n",
    "model.add(Activation(\"relu\"))\n",
    "model.add(MaxPool3D((1,2,2)))\n",
    "          \n",
    "model.add(Conv3D(256, 3, padding=\"same\"))\n",
    "model.add(Activation(\"relu\"))\n",
    "model.add(MaxPool3D((1,2,2)))\n",
    "          \n",
    "model.add(Conv3D(75, 3, padding=\"same\"))\n",
    "model.add(Activation(\"relu\"))\n",
    "model.add(MaxPool3D((1,2,2)))\n",
    "          \n",
    "model.add(TimeDistributed(Flatten()))\n",
    "          \n",
    "model.add(Bidirectional(LSTM(128, kernel_initializer='Orthogonal', return_sequences=True)))\n",
    "model.add(Dropout(0.5))\n",
    "          \n",
    "model.add(Bidirectional(LSTM(128, kernel_initializer='Orthogonal', return_sequences=True)))\n",
    "model.add(Dropout(0.5))\n",
    "          \n",
    "model.add(Dense(char_to_num.vocabulary_size()+1, kernel_initializer='he_normal', activation='softmax'))"
   ]
  },
  {
   "cell_type": "code",
   "execution_count": 203,
   "id": "e7edee32-deee-4b0b-95dc-7587e80f689b",
   "metadata": {},
   "outputs": [
    {
     "name": "stdout",
     "output_type": "stream",
     "text": [
      "Model: \"sequential_5\"\n",
      "_________________________________________________________________\n",
      " Layer (type)                Output Shape              Param #   \n",
      "=================================================================\n",
      " conv3d_13 (Conv3D)          (None, 75, 46, 140, 128)  3584      \n",
      "                                                                 \n",
      " activation_13 (Activation)  (None, 75, 46, 140, 128)  0         \n",
      "                                                                 \n",
      " max_pooling3d_12 (MaxPoolin  (None, 75, 23, 70, 128)  0         \n",
      " g3D)                                                            \n",
      "                                                                 \n",
      " conv3d_14 (Conv3D)          (None, 75, 23, 70, 256)   884992    \n",
      "                                                                 \n",
      " activation_14 (Activation)  (None, 75, 23, 70, 256)   0         \n",
      "                                                                 \n",
      " max_pooling3d_13 (MaxPoolin  (None, 75, 11, 35, 256)  0         \n",
      " g3D)                                                            \n",
      "                                                                 \n",
      " conv3d_15 (Conv3D)          (None, 75, 11, 35, 75)    518475    \n",
      "                                                                 \n",
      " activation_15 (Activation)  (None, 75, 11, 35, 75)    0         \n",
      "                                                                 \n",
      " max_pooling3d_14 (MaxPoolin  (None, 75, 5, 17, 75)    0         \n",
      " g3D)                                                            \n",
      "                                                                 \n",
      " time_distributed_4 (TimeDis  (None, 75, 6375)         0         \n",
      " tributed)                                                       \n",
      "                                                                 \n",
      " bidirectional_8 (Bidirectio  (None, 75, 256)          6660096   \n",
      " nal)                                                            \n",
      "                                                                 \n",
      " dropout_8 (Dropout)         (None, 75, 256)           0         \n",
      "                                                                 \n",
      " bidirectional_9 (Bidirectio  (None, 75, 256)          394240    \n",
      " nal)                                                            \n",
      "                                                                 \n",
      " dropout_9 (Dropout)         (None, 75, 256)           0         \n",
      "                                                                 \n",
      " dense_4 (Dense)             (None, 75, 41)            10537     \n",
      "                                                                 \n",
      "=================================================================\n",
      "Total params: 8,471,924\n",
      "Trainable params: 8,471,924\n",
      "Non-trainable params: 0\n",
      "_________________________________________________________________\n"
     ]
    }
   ],
   "source": [
    "model.summary()"
   ]
  },
  {
   "cell_type": "code",
   "execution_count": 204,
   "id": "54596f95-4b2b-4328-9ae1-0255a64c3f54",
   "metadata": {},
   "outputs": [
    {
     "name": "stdout",
     "output_type": "stream",
     "text": [
      "1/1 [==============================] - 4s 4s/step\n"
     ]
    }
   ],
   "source": [
    "yhat = model.predict(val[0])"
   ]
  },
  {
   "cell_type": "code",
   "execution_count": 205,
   "id": "2e64a157-1e26-447f-9156-032b32d389d1",
   "metadata": {},
   "outputs": [
    {
     "data": {
      "text/plain": [
       "<tf.Tensor: shape=(), dtype=string, numpy=b\"bbbbbbbbbbbbbbbbbbbbbbbbbbbbbbbbbbb'''''''''''bbbbbbbbbbbbbbbb''''rrrr''''6\">"
      ]
     },
     "execution_count": 205,
     "metadata": {},
     "output_type": "execute_result"
    }
   ],
   "source": [
    "tf.strings.reduce_join([num_to_char(tf.argmax(x)) for x in yhat[0]])"
   ]
  },
  {
   "cell_type": "code",
   "execution_count": 206,
   "id": "c0774648-dc8c-46c5-94d2-30586ddb9548",
   "metadata": {},
   "outputs": [
    {
     "data": {
      "text/plain": [
       "(None, 75, 46, 140, 1)"
      ]
     },
     "execution_count": 206,
     "metadata": {},
     "output_type": "execute_result"
    }
   ],
   "source": [
    "model.input_shape"
   ]
  },
  {
   "cell_type": "code",
   "execution_count": 207,
   "id": "03db174c-ab47-4bb2-9c40-eac4e77d5b03",
   "metadata": {},
   "outputs": [
    {
     "data": {
      "text/plain": [
       "(None, 75, 41)"
      ]
     },
     "execution_count": 207,
     "metadata": {},
     "output_type": "execute_result"
    }
   ],
   "source": [
    "model.output_shape"
   ]
  },
  {
   "cell_type": "code",
   "execution_count": 208,
   "id": "2cd4ffea-4097-4734-93f7-7f6077440b9d",
   "metadata": {},
   "outputs": [],
   "source": [
    "def scheduler(epoch, lr):\n",
    "    if epoch < 30:\n",
    "        return lr\n",
    "    else:\n",
    "        return lr * tf.math.exp(-0.1)"
   ]
  },
  {
   "cell_type": "code",
   "execution_count": 209,
   "id": "92429e21-0de2-46ec-96a8-2e0c0f40d6cf",
   "metadata": {},
   "outputs": [],
   "source": [
    "def CTCLoss(y_true, y_pred):\n",
    "    batch_len = tf.cast(tf.shape(y_true)[0], dtype=\"int64\")\n",
    "    input_length = tf.cast(tf.shape(y_pred)[1], dtype=\"int64\")\n",
    "    label_length = tf.cast(tf.shape(y_true)[1], dtype=\"int64\")\n",
    "\n",
    "    input_length = input_length * tf.ones(shape=(batch_len, 1), dtype=\"int64\")\n",
    "    label_length = label_length * tf.ones(shape=(batch_len, 1), dtype=\"int64\")\n",
    "\n",
    "    loss = tf.keras.backend.ctc_batch_cost(y_true, y_pred, input_length, label_length)\n",
    "    return loss"
   ]
  },
  {
   "cell_type": "code",
   "execution_count": 215,
   "id": "883cd53a-ca36-440b-b57b-9f5e639745d0",
   "metadata": {},
   "outputs": [],
   "source": [
    "class ProduceExample(tf.keras.callbacks.Callback): \n",
    "    def __init__(self, dataset) -> None: \n",
    "        self.dataset = dataset\n",
    "    \n",
    "    def on_epoch_end(self, epoch, logs=None) -> None:\n",
    "        data = self.dataset.next()\n",
    "        yhat = self.model.predict(data[0])\n",
    "        decoded = tf.keras.backend.ctc_decode(yhat, [75,75], greedy=False)[0][0].numpy()\n",
    "        for x in range(len(yhat)):           \n",
    "            print('Original:', tf.strings.reduce_join(num_to_char(data[1][x])).numpy().decode('utf-8'))\n",
    "            print('Prediction:', tf.strings.reduce_join(num_to_char(decoded[x])).numpy().decode('utf-8'))\n",
    "            print('~'*100)"
   ]
  },
  {
   "cell_type": "code",
   "execution_count": 216,
   "id": "90339b02-4959-4500-9e47-3491953eba17",
   "metadata": {},
   "outputs": [],
   "source": [
    "model.compile(optimizer=Adam(learning_rate=0.0001), loss=CTCLoss)"
   ]
  },
  {
   "cell_type": "code",
   "execution_count": 217,
   "id": "5759e1d0-7c63-402a-9b6c-07e4c505c81d",
   "metadata": {},
   "outputs": [],
   "source": [
    "checkpoint_callback = ModelCheckpoint(os.path.join('Models','Checkpoint'), monitor='loss', save_weights_only=True) "
   ]
  },
  {
   "cell_type": "code",
   "execution_count": 218,
   "id": "3d49e33f-236c-4821-9d65-0b1c81a2b563",
   "metadata": {},
   "outputs": [],
   "source": [
    "schedule_callback = LearningRateScheduler(scheduler)"
   ]
  },
  {
   "cell_type": "code",
   "execution_count": 219,
   "id": "bad1e45b-0992-4869-9597-8eaabe65220c",
   "metadata": {},
   "outputs": [],
   "source": [
    "example_callback = ProduceExample(test)"
   ]
  },
  {
   "cell_type": "code",
   "execution_count": 220,
   "id": "3ace9935-dbc4-4959-bd2d-f8a565db2a19",
   "metadata": {
    "collapsed": true,
    "jupyter": {
     "outputs_hidden": true
    },
    "tags": []
   },
   "outputs": [
    {
     "name": "stdout",
     "output_type": "stream",
     "text": [
      "Epoch 1/100\n",
      "  6/450 [..............................] - ETA: 3:28:08 - loss: 168.9500"
     ]
    },
    {
     "ename": "KeyboardInterrupt",
     "evalue": "",
     "output_type": "error",
     "traceback": [
      "\u001b[0;31m---------------------------------------------------------------------------\u001b[0m",
      "\u001b[0;31mKeyboardInterrupt\u001b[0m                         Traceback (most recent call last)",
      "Input \u001b[0;32mIn [220]\u001b[0m, in \u001b[0;36m<cell line: 1>\u001b[0;34m()\u001b[0m\n\u001b[0;32m----> 1\u001b[0m \u001b[43mmodel\u001b[49m\u001b[38;5;241;43m.\u001b[39;49m\u001b[43mfit\u001b[49m\u001b[43m(\u001b[49m\u001b[43mtrain\u001b[49m\u001b[43m,\u001b[49m\u001b[43m \u001b[49m\u001b[43mvalidation_data\u001b[49m\u001b[38;5;241;43m=\u001b[39;49m\u001b[43mtest\u001b[49m\u001b[43m,\u001b[49m\u001b[43m \u001b[49m\u001b[43mepochs\u001b[49m\u001b[38;5;241;43m=\u001b[39;49m\u001b[38;5;241;43m100\u001b[39;49m\u001b[43m,\u001b[49m\u001b[43m \u001b[49m\u001b[43mcallbacks\u001b[49m\u001b[38;5;241;43m=\u001b[39;49m\u001b[43m[\u001b[49m\u001b[43mcheckpoint_callback\u001b[49m\u001b[43m,\u001b[49m\u001b[43m \u001b[49m\u001b[43mschedule_callback\u001b[49m\u001b[43m,\u001b[49m\u001b[43m \u001b[49m\u001b[43mexample_callback\u001b[49m\u001b[43m]\u001b[49m\u001b[43m)\u001b[49m\n",
      "File \u001b[0;32m~/miniconda3/envs/experimental/lib/python3.10/site-packages/keras/utils/traceback_utils.py:65\u001b[0m, in \u001b[0;36mfilter_traceback.<locals>.error_handler\u001b[0;34m(*args, **kwargs)\u001b[0m\n\u001b[1;32m     63\u001b[0m filtered_tb \u001b[38;5;241m=\u001b[39m \u001b[38;5;28;01mNone\u001b[39;00m\n\u001b[1;32m     64\u001b[0m \u001b[38;5;28;01mtry\u001b[39;00m:\n\u001b[0;32m---> 65\u001b[0m     \u001b[38;5;28;01mreturn\u001b[39;00m \u001b[43mfn\u001b[49m\u001b[43m(\u001b[49m\u001b[38;5;241;43m*\u001b[39;49m\u001b[43margs\u001b[49m\u001b[43m,\u001b[49m\u001b[43m \u001b[49m\u001b[38;5;241;43m*\u001b[39;49m\u001b[38;5;241;43m*\u001b[39;49m\u001b[43mkwargs\u001b[49m\u001b[43m)\u001b[49m\n\u001b[1;32m     66\u001b[0m \u001b[38;5;28;01mexcept\u001b[39;00m \u001b[38;5;167;01mException\u001b[39;00m \u001b[38;5;28;01mas\u001b[39;00m e:\n\u001b[1;32m     67\u001b[0m     filtered_tb \u001b[38;5;241m=\u001b[39m _process_traceback_frames(e\u001b[38;5;241m.\u001b[39m__traceback__)\n",
      "File \u001b[0;32m~/miniconda3/envs/experimental/lib/python3.10/site-packages/keras/engine/training.py:1650\u001b[0m, in \u001b[0;36mModel.fit\u001b[0;34m(self, x, y, batch_size, epochs, verbose, callbacks, validation_split, validation_data, shuffle, class_weight, sample_weight, initial_epoch, steps_per_epoch, validation_steps, validation_batch_size, validation_freq, max_queue_size, workers, use_multiprocessing)\u001b[0m\n\u001b[1;32m   1642\u001b[0m \u001b[38;5;28;01mwith\u001b[39;00m tf\u001b[38;5;241m.\u001b[39mprofiler\u001b[38;5;241m.\u001b[39mexperimental\u001b[38;5;241m.\u001b[39mTrace(\n\u001b[1;32m   1643\u001b[0m     \u001b[38;5;124m\"\u001b[39m\u001b[38;5;124mtrain\u001b[39m\u001b[38;5;124m\"\u001b[39m,\n\u001b[1;32m   1644\u001b[0m     epoch_num\u001b[38;5;241m=\u001b[39mepoch,\n\u001b[0;32m   (...)\u001b[0m\n\u001b[1;32m   1647\u001b[0m     _r\u001b[38;5;241m=\u001b[39m\u001b[38;5;241m1\u001b[39m,\n\u001b[1;32m   1648\u001b[0m ):\n\u001b[1;32m   1649\u001b[0m     callbacks\u001b[38;5;241m.\u001b[39mon_train_batch_begin(step)\n\u001b[0;32m-> 1650\u001b[0m     tmp_logs \u001b[38;5;241m=\u001b[39m \u001b[38;5;28;43mself\u001b[39;49m\u001b[38;5;241;43m.\u001b[39;49m\u001b[43mtrain_function\u001b[49m\u001b[43m(\u001b[49m\u001b[43miterator\u001b[49m\u001b[43m)\u001b[49m\n\u001b[1;32m   1651\u001b[0m     \u001b[38;5;28;01mif\u001b[39;00m data_handler\u001b[38;5;241m.\u001b[39mshould_sync:\n\u001b[1;32m   1652\u001b[0m         context\u001b[38;5;241m.\u001b[39masync_wait()\n",
      "File \u001b[0;32m~/miniconda3/envs/experimental/lib/python3.10/site-packages/tensorflow/python/util/traceback_utils.py:150\u001b[0m, in \u001b[0;36mfilter_traceback.<locals>.error_handler\u001b[0;34m(*args, **kwargs)\u001b[0m\n\u001b[1;32m    148\u001b[0m filtered_tb \u001b[38;5;241m=\u001b[39m \u001b[38;5;28;01mNone\u001b[39;00m\n\u001b[1;32m    149\u001b[0m \u001b[38;5;28;01mtry\u001b[39;00m:\n\u001b[0;32m--> 150\u001b[0m   \u001b[38;5;28;01mreturn\u001b[39;00m \u001b[43mfn\u001b[49m\u001b[43m(\u001b[49m\u001b[38;5;241;43m*\u001b[39;49m\u001b[43margs\u001b[49m\u001b[43m,\u001b[49m\u001b[43m \u001b[49m\u001b[38;5;241;43m*\u001b[39;49m\u001b[38;5;241;43m*\u001b[39;49m\u001b[43mkwargs\u001b[49m\u001b[43m)\u001b[49m\n\u001b[1;32m    151\u001b[0m \u001b[38;5;28;01mexcept\u001b[39;00m \u001b[38;5;167;01mException\u001b[39;00m \u001b[38;5;28;01mas\u001b[39;00m e:\n\u001b[1;32m    152\u001b[0m   filtered_tb \u001b[38;5;241m=\u001b[39m _process_traceback_frames(e\u001b[38;5;241m.\u001b[39m__traceback__)\n",
      "File \u001b[0;32m~/miniconda3/envs/experimental/lib/python3.10/site-packages/tensorflow/python/eager/polymorphic_function/polymorphic_function.py:880\u001b[0m, in \u001b[0;36mFunction.__call__\u001b[0;34m(self, *args, **kwds)\u001b[0m\n\u001b[1;32m    877\u001b[0m compiler \u001b[38;5;241m=\u001b[39m \u001b[38;5;124m\"\u001b[39m\u001b[38;5;124mxla\u001b[39m\u001b[38;5;124m\"\u001b[39m \u001b[38;5;28;01mif\u001b[39;00m \u001b[38;5;28mself\u001b[39m\u001b[38;5;241m.\u001b[39m_jit_compile \u001b[38;5;28;01melse\u001b[39;00m \u001b[38;5;124m\"\u001b[39m\u001b[38;5;124mnonXla\u001b[39m\u001b[38;5;124m\"\u001b[39m\n\u001b[1;32m    879\u001b[0m \u001b[38;5;28;01mwith\u001b[39;00m OptionalXlaContext(\u001b[38;5;28mself\u001b[39m\u001b[38;5;241m.\u001b[39m_jit_compile):\n\u001b[0;32m--> 880\u001b[0m   result \u001b[38;5;241m=\u001b[39m \u001b[38;5;28;43mself\u001b[39;49m\u001b[38;5;241;43m.\u001b[39;49m\u001b[43m_call\u001b[49m\u001b[43m(\u001b[49m\u001b[38;5;241;43m*\u001b[39;49m\u001b[43margs\u001b[49m\u001b[43m,\u001b[49m\u001b[43m \u001b[49m\u001b[38;5;241;43m*\u001b[39;49m\u001b[38;5;241;43m*\u001b[39;49m\u001b[43mkwds\u001b[49m\u001b[43m)\u001b[49m\n\u001b[1;32m    882\u001b[0m new_tracing_count \u001b[38;5;241m=\u001b[39m \u001b[38;5;28mself\u001b[39m\u001b[38;5;241m.\u001b[39mexperimental_get_tracing_count()\n\u001b[1;32m    883\u001b[0m without_tracing \u001b[38;5;241m=\u001b[39m (tracing_count \u001b[38;5;241m==\u001b[39m new_tracing_count)\n",
      "File \u001b[0;32m~/miniconda3/envs/experimental/lib/python3.10/site-packages/tensorflow/python/eager/polymorphic_function/polymorphic_function.py:912\u001b[0m, in \u001b[0;36mFunction._call\u001b[0;34m(self, *args, **kwds)\u001b[0m\n\u001b[1;32m    909\u001b[0m   \u001b[38;5;28mself\u001b[39m\u001b[38;5;241m.\u001b[39m_lock\u001b[38;5;241m.\u001b[39mrelease()\n\u001b[1;32m    910\u001b[0m   \u001b[38;5;66;03m# In this case we have created variables on the first call, so we run the\u001b[39;00m\n\u001b[1;32m    911\u001b[0m   \u001b[38;5;66;03m# defunned version which is guaranteed to never create variables.\u001b[39;00m\n\u001b[0;32m--> 912\u001b[0m   \u001b[38;5;28;01mreturn\u001b[39;00m \u001b[38;5;28;43mself\u001b[39;49m\u001b[38;5;241;43m.\u001b[39;49m\u001b[43m_no_variable_creation_fn\u001b[49m\u001b[43m(\u001b[49m\u001b[38;5;241;43m*\u001b[39;49m\u001b[43margs\u001b[49m\u001b[43m,\u001b[49m\u001b[43m \u001b[49m\u001b[38;5;241;43m*\u001b[39;49m\u001b[38;5;241;43m*\u001b[39;49m\u001b[43mkwds\u001b[49m\u001b[43m)\u001b[49m  \u001b[38;5;66;03m# pylint: disable=not-callable\u001b[39;00m\n\u001b[1;32m    913\u001b[0m \u001b[38;5;28;01melif\u001b[39;00m \u001b[38;5;28mself\u001b[39m\u001b[38;5;241m.\u001b[39m_variable_creation_fn \u001b[38;5;129;01mis\u001b[39;00m \u001b[38;5;129;01mnot\u001b[39;00m \u001b[38;5;28;01mNone\u001b[39;00m:\n\u001b[1;32m    914\u001b[0m   \u001b[38;5;66;03m# Release the lock early so that multiple threads can perform the call\u001b[39;00m\n\u001b[1;32m    915\u001b[0m   \u001b[38;5;66;03m# in parallel.\u001b[39;00m\n\u001b[1;32m    916\u001b[0m   \u001b[38;5;28mself\u001b[39m\u001b[38;5;241m.\u001b[39m_lock\u001b[38;5;241m.\u001b[39mrelease()\n",
      "File \u001b[0;32m~/miniconda3/envs/experimental/lib/python3.10/site-packages/tensorflow/python/eager/polymorphic_function/tracing_compiler.py:134\u001b[0m, in \u001b[0;36mTracingCompiler.__call__\u001b[0;34m(self, *args, **kwargs)\u001b[0m\n\u001b[1;32m    131\u001b[0m \u001b[38;5;28;01mwith\u001b[39;00m \u001b[38;5;28mself\u001b[39m\u001b[38;5;241m.\u001b[39m_lock:\n\u001b[1;32m    132\u001b[0m   (concrete_function,\n\u001b[1;32m    133\u001b[0m    filtered_flat_args) \u001b[38;5;241m=\u001b[39m \u001b[38;5;28mself\u001b[39m\u001b[38;5;241m.\u001b[39m_maybe_define_function(args, kwargs)\n\u001b[0;32m--> 134\u001b[0m \u001b[38;5;28;01mreturn\u001b[39;00m \u001b[43mconcrete_function\u001b[49m\u001b[38;5;241;43m.\u001b[39;49m\u001b[43m_call_flat\u001b[49m\u001b[43m(\u001b[49m\n\u001b[1;32m    135\u001b[0m \u001b[43m    \u001b[49m\u001b[43mfiltered_flat_args\u001b[49m\u001b[43m,\u001b[49m\u001b[43m \u001b[49m\u001b[43mcaptured_inputs\u001b[49m\u001b[38;5;241;43m=\u001b[39;49m\u001b[43mconcrete_function\u001b[49m\u001b[38;5;241;43m.\u001b[39;49m\u001b[43mcaptured_inputs\u001b[49m\u001b[43m)\u001b[49m\n",
      "File \u001b[0;32m~/miniconda3/envs/experimental/lib/python3.10/site-packages/tensorflow/python/eager/polymorphic_function/monomorphic_function.py:1745\u001b[0m, in \u001b[0;36mConcreteFunction._call_flat\u001b[0;34m(self, args, captured_inputs, cancellation_manager)\u001b[0m\n\u001b[1;32m   1741\u001b[0m possible_gradient_type \u001b[38;5;241m=\u001b[39m gradients_util\u001b[38;5;241m.\u001b[39mPossibleTapeGradientTypes(args)\n\u001b[1;32m   1742\u001b[0m \u001b[38;5;28;01mif\u001b[39;00m (possible_gradient_type \u001b[38;5;241m==\u001b[39m gradients_util\u001b[38;5;241m.\u001b[39mPOSSIBLE_GRADIENT_TYPES_NONE\n\u001b[1;32m   1743\u001b[0m     \u001b[38;5;129;01mand\u001b[39;00m executing_eagerly):\n\u001b[1;32m   1744\u001b[0m   \u001b[38;5;66;03m# No tape is watching; skip to running the function.\u001b[39;00m\n\u001b[0;32m-> 1745\u001b[0m   \u001b[38;5;28;01mreturn\u001b[39;00m \u001b[38;5;28mself\u001b[39m\u001b[38;5;241m.\u001b[39m_build_call_outputs(\u001b[38;5;28;43mself\u001b[39;49m\u001b[38;5;241;43m.\u001b[39;49m\u001b[43m_inference_function\u001b[49m\u001b[38;5;241;43m.\u001b[39;49m\u001b[43mcall\u001b[49m\u001b[43m(\u001b[49m\n\u001b[1;32m   1746\u001b[0m \u001b[43m      \u001b[49m\u001b[43mctx\u001b[49m\u001b[43m,\u001b[49m\u001b[43m \u001b[49m\u001b[43margs\u001b[49m\u001b[43m,\u001b[49m\u001b[43m \u001b[49m\u001b[43mcancellation_manager\u001b[49m\u001b[38;5;241;43m=\u001b[39;49m\u001b[43mcancellation_manager\u001b[49m\u001b[43m)\u001b[49m)\n\u001b[1;32m   1747\u001b[0m forward_backward \u001b[38;5;241m=\u001b[39m \u001b[38;5;28mself\u001b[39m\u001b[38;5;241m.\u001b[39m_select_forward_and_backward_functions(\n\u001b[1;32m   1748\u001b[0m     args,\n\u001b[1;32m   1749\u001b[0m     possible_gradient_type,\n\u001b[1;32m   1750\u001b[0m     executing_eagerly)\n\u001b[1;32m   1751\u001b[0m forward_function, args_with_tangents \u001b[38;5;241m=\u001b[39m forward_backward\u001b[38;5;241m.\u001b[39mforward()\n",
      "File \u001b[0;32m~/miniconda3/envs/experimental/lib/python3.10/site-packages/tensorflow/python/eager/polymorphic_function/monomorphic_function.py:378\u001b[0m, in \u001b[0;36m_EagerDefinedFunction.call\u001b[0;34m(self, ctx, args, cancellation_manager)\u001b[0m\n\u001b[1;32m    376\u001b[0m \u001b[38;5;28;01mwith\u001b[39;00m _InterpolateFunctionError(\u001b[38;5;28mself\u001b[39m):\n\u001b[1;32m    377\u001b[0m   \u001b[38;5;28;01mif\u001b[39;00m cancellation_manager \u001b[38;5;129;01mis\u001b[39;00m \u001b[38;5;28;01mNone\u001b[39;00m:\n\u001b[0;32m--> 378\u001b[0m     outputs \u001b[38;5;241m=\u001b[39m \u001b[43mexecute\u001b[49m\u001b[38;5;241;43m.\u001b[39;49m\u001b[43mexecute\u001b[49m\u001b[43m(\u001b[49m\n\u001b[1;32m    379\u001b[0m \u001b[43m        \u001b[49m\u001b[38;5;28;43mstr\u001b[39;49m\u001b[43m(\u001b[49m\u001b[38;5;28;43mself\u001b[39;49m\u001b[38;5;241;43m.\u001b[39;49m\u001b[43msignature\u001b[49m\u001b[38;5;241;43m.\u001b[39;49m\u001b[43mname\u001b[49m\u001b[43m)\u001b[49m\u001b[43m,\u001b[49m\n\u001b[1;32m    380\u001b[0m \u001b[43m        \u001b[49m\u001b[43mnum_outputs\u001b[49m\u001b[38;5;241;43m=\u001b[39;49m\u001b[38;5;28;43mself\u001b[39;49m\u001b[38;5;241;43m.\u001b[39;49m\u001b[43m_num_outputs\u001b[49m\u001b[43m,\u001b[49m\n\u001b[1;32m    381\u001b[0m \u001b[43m        \u001b[49m\u001b[43minputs\u001b[49m\u001b[38;5;241;43m=\u001b[39;49m\u001b[43margs\u001b[49m\u001b[43m,\u001b[49m\n\u001b[1;32m    382\u001b[0m \u001b[43m        \u001b[49m\u001b[43mattrs\u001b[49m\u001b[38;5;241;43m=\u001b[39;49m\u001b[43mattrs\u001b[49m\u001b[43m,\u001b[49m\n\u001b[1;32m    383\u001b[0m \u001b[43m        \u001b[49m\u001b[43mctx\u001b[49m\u001b[38;5;241;43m=\u001b[39;49m\u001b[43mctx\u001b[49m\u001b[43m)\u001b[49m\n\u001b[1;32m    384\u001b[0m   \u001b[38;5;28;01melse\u001b[39;00m:\n\u001b[1;32m    385\u001b[0m     outputs \u001b[38;5;241m=\u001b[39m execute\u001b[38;5;241m.\u001b[39mexecute_with_cancellation(\n\u001b[1;32m    386\u001b[0m         \u001b[38;5;28mstr\u001b[39m(\u001b[38;5;28mself\u001b[39m\u001b[38;5;241m.\u001b[39msignature\u001b[38;5;241m.\u001b[39mname),\n\u001b[1;32m    387\u001b[0m         num_outputs\u001b[38;5;241m=\u001b[39m\u001b[38;5;28mself\u001b[39m\u001b[38;5;241m.\u001b[39m_num_outputs,\n\u001b[0;32m   (...)\u001b[0m\n\u001b[1;32m    390\u001b[0m         ctx\u001b[38;5;241m=\u001b[39mctx,\n\u001b[1;32m    391\u001b[0m         cancellation_manager\u001b[38;5;241m=\u001b[39mcancellation_manager)\n",
      "File \u001b[0;32m~/miniconda3/envs/experimental/lib/python3.10/site-packages/tensorflow/python/eager/execute.py:52\u001b[0m, in \u001b[0;36mquick_execute\u001b[0;34m(op_name, num_outputs, inputs, attrs, ctx, name)\u001b[0m\n\u001b[1;32m     50\u001b[0m \u001b[38;5;28;01mtry\u001b[39;00m:\n\u001b[1;32m     51\u001b[0m   ctx\u001b[38;5;241m.\u001b[39mensure_initialized()\n\u001b[0;32m---> 52\u001b[0m   tensors \u001b[38;5;241m=\u001b[39m \u001b[43mpywrap_tfe\u001b[49m\u001b[38;5;241;43m.\u001b[39;49m\u001b[43mTFE_Py_Execute\u001b[49m\u001b[43m(\u001b[49m\u001b[43mctx\u001b[49m\u001b[38;5;241;43m.\u001b[39;49m\u001b[43m_handle\u001b[49m\u001b[43m,\u001b[49m\u001b[43m \u001b[49m\u001b[43mdevice_name\u001b[49m\u001b[43m,\u001b[49m\u001b[43m \u001b[49m\u001b[43mop_name\u001b[49m\u001b[43m,\u001b[49m\n\u001b[1;32m     53\u001b[0m \u001b[43m                                      \u001b[49m\u001b[43minputs\u001b[49m\u001b[43m,\u001b[49m\u001b[43m \u001b[49m\u001b[43mattrs\u001b[49m\u001b[43m,\u001b[49m\u001b[43m \u001b[49m\u001b[43mnum_outputs\u001b[49m\u001b[43m)\u001b[49m\n\u001b[1;32m     54\u001b[0m \u001b[38;5;28;01mexcept\u001b[39;00m core\u001b[38;5;241m.\u001b[39m_NotOkStatusException \u001b[38;5;28;01mas\u001b[39;00m e:\n\u001b[1;32m     55\u001b[0m   \u001b[38;5;28;01mif\u001b[39;00m name \u001b[38;5;129;01mis\u001b[39;00m \u001b[38;5;129;01mnot\u001b[39;00m \u001b[38;5;28;01mNone\u001b[39;00m:\n",
      "\u001b[0;31mKeyboardInterrupt\u001b[0m: "
     ]
    }
   ],
   "source": [
    "model.fit(train, validation_data=test, epochs=100, callbacks=[checkpoint_callback, schedule_callback, example_callback])"
   ]
  },
  {
   "cell_type": "code",
   "execution_count": 221,
   "id": "f1870634-0fa9-477d-a2cd-8ddf3bf67afa",
   "metadata": {},
   "outputs": [
    {
     "name": "stderr",
     "output_type": "stream",
     "text": [
      "Downloading...\n",
      "From: https://drive.google.com/uc?id=1vWscXs4Vt0a_1IH1-ct2TCgXAZT-N3_Y\n",
      "To: /Users/liranpod/Desktop/Tensorflow/Computer Vision/Lip Reader/checkpoints.zip\n",
      "100%|██████████████████████████████████████| 94.5M/94.5M [00:14<00:00, 6.36MB/s]\n"
     ]
    },
    {
     "data": {
      "text/plain": [
       "['models/checkpoint.index',\n",
       " 'models/__MACOSX/._checkpoint.index',\n",
       " 'models/checkpoint.data-00000-of-00001',\n",
       " 'models/__MACOSX/._checkpoint.data-00000-of-00001',\n",
       " 'models/checkpoint',\n",
       " 'models/__MACOSX/._checkpoint']"
      ]
     },
     "execution_count": 221,
     "metadata": {},
     "output_type": "execute_result"
    }
   ],
   "source": [
    "url = 'https://drive.google.com/uc?id=1vWscXs4Vt0a_1IH1-ct2TCgXAZT-N3_Y'\n",
    "output = 'checkpoints.zip'\n",
    "gdown.download(url, output, quiet=False)\n",
    "gdown.extractall('checkpoints.zip', 'models')"
   ]
  },
  {
   "cell_type": "code",
   "execution_count": 222,
   "id": "b719c91e-60e5-4e77-8a53-e658f25369e8",
   "metadata": {
    "collapsed": true,
    "jupyter": {
     "outputs_hidden": true
    },
    "tags": []
   },
   "outputs": [
    {
     "ename": "ValueError",
     "evalue": "You are trying to restore a checkpoint from a legacy Keras optimizer into a v2.11+ Optimizer, which can cause errors. Please update the optimizer referenced in your code to be an instance of `tf.keras.optimizers.legacy.Optimizer`, e.g.: `tf.keras.optimizers.legacy.Adam`.",
     "output_type": "error",
     "traceback": [
      "\u001b[0;31m---------------------------------------------------------------------------\u001b[0m",
      "\u001b[0;31mValueError\u001b[0m                                Traceback (most recent call last)",
      "Input \u001b[0;32mIn [222]\u001b[0m, in \u001b[0;36m<cell line: 1>\u001b[0;34m()\u001b[0m\n\u001b[0;32m----> 1\u001b[0m \u001b[43mmodel\u001b[49m\u001b[38;5;241;43m.\u001b[39;49m\u001b[43mload_weights\u001b[49m\u001b[43m(\u001b[49m\u001b[38;5;124;43m'\u001b[39;49m\u001b[38;5;124;43mModels/checkpoint\u001b[39;49m\u001b[38;5;124;43m'\u001b[39;49m\u001b[43m)\u001b[49m\n",
      "File \u001b[0;32m~/miniconda3/envs/experimental/lib/python3.10/site-packages/keras/utils/traceback_utils.py:70\u001b[0m, in \u001b[0;36mfilter_traceback.<locals>.error_handler\u001b[0;34m(*args, **kwargs)\u001b[0m\n\u001b[1;32m     67\u001b[0m     filtered_tb \u001b[38;5;241m=\u001b[39m _process_traceback_frames(e\u001b[38;5;241m.\u001b[39m__traceback__)\n\u001b[1;32m     68\u001b[0m     \u001b[38;5;66;03m# To get the full stack trace, call:\u001b[39;00m\n\u001b[1;32m     69\u001b[0m     \u001b[38;5;66;03m# `tf.debugging.disable_traceback_filtering()`\u001b[39;00m\n\u001b[0;32m---> 70\u001b[0m     \u001b[38;5;28;01mraise\u001b[39;00m e\u001b[38;5;241m.\u001b[39mwith_traceback(filtered_tb) \u001b[38;5;28;01mfrom\u001b[39;00m \u001b[38;5;28mNone\u001b[39m\n\u001b[1;32m     71\u001b[0m \u001b[38;5;28;01mfinally\u001b[39;00m:\n\u001b[1;32m     72\u001b[0m     \u001b[38;5;28;01mdel\u001b[39;00m filtered_tb\n",
      "File \u001b[0;32m~/miniconda3/envs/experimental/lib/python3.10/site-packages/keras/optimizers/optimizer_experimental/optimizer.py:131\u001b[0m, in \u001b[0;36m_BaseOptimizer._create_or_restore_slot_variable\u001b[0;34m(self, **kwargs)\u001b[0m\n\u001b[1;32m    130\u001b[0m \u001b[38;5;28;01mdef\u001b[39;00m \u001b[38;5;21m_create_or_restore_slot_variable\u001b[39m(\u001b[38;5;28mself\u001b[39m, \u001b[38;5;241m*\u001b[39m\u001b[38;5;241m*\u001b[39mkwargs):\n\u001b[0;32m--> 131\u001b[0m     \u001b[38;5;28;01mraise\u001b[39;00m \u001b[38;5;167;01mValueError\u001b[39;00m(\n\u001b[1;32m    132\u001b[0m         \u001b[38;5;124m\"\u001b[39m\u001b[38;5;124mYou are trying to restore a checkpoint from a legacy Keras \u001b[39m\u001b[38;5;124m\"\u001b[39m\n\u001b[1;32m    133\u001b[0m         \u001b[38;5;124m\"\u001b[39m\u001b[38;5;124moptimizer into a v2.11+ Optimizer, which can cause \u001b[39m\u001b[38;5;124m\"\u001b[39m\n\u001b[1;32m    134\u001b[0m         \u001b[38;5;124m\"\u001b[39m\u001b[38;5;124merrors. Please update the optimizer referenced in your code \u001b[39m\u001b[38;5;124m\"\u001b[39m\n\u001b[1;32m    135\u001b[0m         \u001b[38;5;124m\"\u001b[39m\u001b[38;5;124mto be an instance of \u001b[39m\u001b[38;5;124m\"\u001b[39m\n\u001b[1;32m    136\u001b[0m         \u001b[38;5;124m\"\u001b[39m\u001b[38;5;124m`tf.keras.optimizers.legacy.Optimizer`, e.g.: \u001b[39m\u001b[38;5;124m\"\u001b[39m\n\u001b[1;32m    137\u001b[0m         \u001b[38;5;124mf\u001b[39m\u001b[38;5;124m\"\u001b[39m\u001b[38;5;124m`tf.keras.optimizers.legacy.\u001b[39m\u001b[38;5;132;01m{\u001b[39;00m\u001b[38;5;28mself\u001b[39m\u001b[38;5;241m.\u001b[39m\u001b[38;5;18m__class__\u001b[39m\u001b[38;5;241m.\u001b[39m\u001b[38;5;18m__name__\u001b[39m\u001b[38;5;132;01m}\u001b[39;00m\u001b[38;5;124m`.\u001b[39m\u001b[38;5;124m\"\u001b[39m\n\u001b[1;32m    138\u001b[0m     )\n",
      "\u001b[0;31mValueError\u001b[0m: You are trying to restore a checkpoint from a legacy Keras optimizer into a v2.11+ Optimizer, which can cause errors. Please update the optimizer referenced in your code to be an instance of `tf.keras.optimizers.legacy.Optimizer`, e.g.: `tf.keras.optimizers.legacy.Adam`."
     ]
    }
   ],
   "source": [
    "model.load_weights('Models/checkpoint')"
   ]
  }
 ],
 "metadata": {
  "kernelspec": {
   "display_name": "expr",
   "language": "python",
   "name": "expr"
  },
  "language_info": {
   "codemirror_mode": {
    "name": "ipython",
    "version": 3
   },
   "file_extension": ".py",
   "mimetype": "text/x-python",
   "name": "python",
   "nbconvert_exporter": "python",
   "pygments_lexer": "ipython3",
   "version": "3.10.8"
  }
 },
 "nbformat": 4,
 "nbformat_minor": 5
}
